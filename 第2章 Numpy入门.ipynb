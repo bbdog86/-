{
 "cells": [
  {
   "cell_type": "code",
   "execution_count": 91,
   "metadata": {
    "cell_id": "00000-fcf400d0-b15e-43f4-a11c-5e83b00c59f6",
    "deepnote_cell_type": "code",
    "deepnote_to_be_reexecuted": false,
    "execution_millis": 25,
    "execution_start": 1611746797518,
    "source_hash": "1c750437",
    "tags": []
   },
   "outputs": [
    {
     "data": {
      "text/plain": [
       "'1.19.4'"
      ]
     },
     "execution_count": 91,
     "metadata": {},
     "output_type": "execute_result"
    }
   ],
   "source": [
    "import numpy as np\n",
    "np.__version__"
   ]
  },
  {
   "cell_type": "code",
   "execution_count": 92,
   "metadata": {
    "cell_id": "00001-cf160199-0574-478d-81fc-f9c3662001b4",
    "deepnote_cell_type": "code",
    "deepnote_to_be_reexecuted": false,
    "execution_millis": 6,
    "execution_start": 1611746797546,
    "source_hash": "8ccb6f9f",
    "tags": []
   },
   "outputs": [],
   "source": [
    "from IPython.core.interactiveshell import InteractiveShell\n",
    "InteractiveShell.ast_node_interactivity = \"all\""
   ]
  },
  {
   "cell_type": "markdown",
   "metadata": {
    "cell_id": "00002-9d13e0d9-0c7f-4d50-9262-f7cfba48d30e",
    "deepnote_cell_type": "markdown",
    "tags": []
   },
   "source": [
    "# 1 理解Python数据类型"
   ]
  },
  {
   "cell_type": "markdown",
   "metadata": {
    "cell_id": "00002-f4d03379-07c6-4ed0-a976-d2eab2ce1081",
    "deepnote_cell_type": "markdown",
    "tags": []
   },
   "source": [
    "## 1.1 Python整形不仅仅是一个数值\n",
    "\n",
    "python3.4中的一个整形实际包括4个部分：\n",
    "- ob_refcnt是一个引用计数\n",
    "- ob_type是变量类型编码\n",
    "- ob_size 指定数据大小（长度）\n",
    "- ob_digit 包含实际整形值\n",
    "\n",
    "> 每一个Python对象都是一个C语言结构体"
   ]
  },
  {
   "cell_type": "markdown",
   "metadata": {
    "cell_id": "00004-855264a7-f1fd-408b-ae50-188d660dc198",
    "deepnote_cell_type": "markdown",
    "tags": []
   },
   "source": [
    "## 1.2 Python列表不仅仅是一个列表\n",
    "Python列表可以存储可变多元素，为了获得这些灵活的类型，列表中的每一项都是一个完整的python对象，这样不利于存储和操作数据。Numpy式数组与之相反。![](https://jakevdp.github.io/PythonDataScienceHandbook/figures/array_vs_list.png)\n"
   ]
  },
  {
   "cell_type": "markdown",
   "metadata": {
    "cell_id": "00005-c496c242-7a4b-451e-94df-7bfab1f0f31c",
    "deepnote_cell_type": "markdown",
    "tags": []
   },
   "source": [
    "## 1.3 python也可以创建紧凑数组\n",
    "但是Numpy在紧凑存储的基础上提供了高效操作"
   ]
  },
  {
   "cell_type": "code",
   "execution_count": 3,
   "metadata": {
    "cell_id": "00006-a994a733-8d1b-4e51-9c8e-8383a80847b5",
    "deepnote_cell_type": "code",
    "deepnote_to_be_reexecuted": false,
    "execution_millis": 13,
    "execution_start": 1611746797563,
    "source_hash": "456151c2",
    "tags": []
   },
   "outputs": [
    {
     "data": {
      "text/plain": [
       "[0, 1, 2, 3, 4, 5, 6, 7, 8, 9]"
      ]
     },
     "execution_count": 3,
     "metadata": {},
     "output_type": "execute_result"
    },
    {
     "data": {
      "text/plain": [
       "array('i', [0, 1, 2, 3, 4, 5, 6, 7, 8, 9])"
      ]
     },
     "execution_count": 3,
     "metadata": {},
     "output_type": "execute_result"
    }
   ],
   "source": [
    "import array\n",
    "L=list(range(10))\n",
    "A=array.array('i',L)\n",
    "L\n",
    "A"
   ]
  },
  {
   "cell_type": "code",
   "execution_count": 4,
   "metadata": {
    "cell_id": "00007-c5a93f2f-ac73-45d2-9ed5-e40daad16798",
    "deepnote_cell_type": "code",
    "deepnote_to_be_reexecuted": false,
    "execution_millis": 11,
    "execution_start": 1611746797587,
    "source_hash": "58bec67b",
    "tags": []
   },
   "outputs": [
    {
     "name": "stdout",
     "output_type": "stream",
     "text": [
      "python数组的内存大小：104\n",
      "紧凑型python数组的内存大小: 72\n"
     ]
    }
   ],
   "source": [
    "import sys\n",
    "print(\"python数组的内存大小：%d\" %sys.getsizeof(L))\n",
    "print(\"紧凑型python数组的内存大小: %d\" %sys.getsizeof(A))"
   ]
  },
  {
   "cell_type": "code",
   "execution_count": 5,
   "metadata": {
    "cell_id": "00008-0c140eea-6ea3-4af0-bb27-a6a4662ec84d",
    "deepnote_cell_type": "code",
    "deepnote_to_be_reexecuted": false,
    "execution_millis": 13,
    "execution_start": 1611746797601,
    "source_hash": "9bbc1154",
    "tags": []
   },
   "outputs": [
    {
     "name": "stdout",
     "output_type": "stream",
     "text": [
      "numpy数组大小： 88\n",
      "设定数据类型为float的numpy数组大小： 88\n"
     ]
    }
   ],
   "source": [
    "X=np.array(L)\n",
    "print(\"numpy数组大小： %d\" %sys.getsizeof(X))\n",
    "F=np.array(L,dtype=\"float\")\n",
    "print(\"设定数据类型为float的numpy数组大小： %d\" %sys.getsizeof(X))"
   ]
  },
  {
   "cell_type": "code",
   "execution_count": 6,
   "metadata": {
    "cell_id": "00009-14dea81f-1383-48b7-a44f-2988a0488395",
    "deepnote_cell_type": "code",
    "deepnote_to_be_reexecuted": false,
    "execution_millis": 9,
    "execution_start": 1611746797622,
    "source_hash": "73a02f87",
    "tags": []
   },
   "outputs": [
    {
     "data": {
      "text/plain": [
       "array([[1, 2, 3],\n",
       "       [2, 3, 4],\n",
       "       [3, 4, 5]])"
      ]
     },
     "execution_count": 6,
     "metadata": {},
     "output_type": "execute_result"
    }
   ],
   "source": [
    "#从python列表创建的嵌套列表构成的Numpy多维数组\n",
    "i=1\n",
    "np.array([range(i,i+3) for i in [1,2,3]])"
   ]
  },
  {
   "cell_type": "markdown",
   "metadata": {
    "cell_id": "00010-ab5e3f69-c38a-45b1-bc7c-2f29eb09b52a",
    "deepnote_cell_type": "markdown",
    "tags": []
   },
   "source": [
    "## 1.4 从头创建数组"
   ]
  },
  {
   "cell_type": "code",
   "execution_count": 7,
   "metadata": {
    "cell_id": "00011-6620e4c2-4040-4e88-bf15-5bb7d6502e7a",
    "deepnote_cell_type": "code",
    "deepnote_to_be_reexecuted": false,
    "execution_millis": 26,
    "execution_start": 1611746797634,
    "source_hash": "71d2f727",
    "tags": []
   },
   "outputs": [
    {
     "data": {
      "text/plain": [
       "array([0, 0, 0, 0, 0, 0, 0, 0, 0, 0])"
      ]
     },
     "execution_count": 7,
     "metadata": {},
     "output_type": "execute_result"
    }
   ],
   "source": [
    "# 创建一个长度为10的数组，数组的值都是0\n",
    "np.zeros(10,dtype=int)"
   ]
  },
  {
   "cell_type": "code",
   "execution_count": 8,
   "metadata": {
    "cell_id": "00012-435e329f-14eb-498f-81e2-9fce350755fe",
    "deepnote_cell_type": "code",
    "deepnote_to_be_reexecuted": false,
    "execution_millis": 3,
    "execution_start": 1611746797683,
    "source_hash": "eac73b34",
    "tags": []
   },
   "outputs": [
    {
     "data": {
      "text/plain": [
       "array([[1., 1., 1., 1., 1.],\n",
       "       [1., 1., 1., 1., 1.],\n",
       "       [1., 1., 1., 1., 1.]])"
      ]
     },
     "execution_count": 8,
     "metadata": {},
     "output_type": "execute_result"
    }
   ],
   "source": [
    "# 创建一个3*5的浮点型数组，数组的值都是1\n",
    "np.ones((3,5),dtype=float)"
   ]
  },
  {
   "cell_type": "code",
   "execution_count": 9,
   "metadata": {
    "cell_id": "00013-d6ec5c9b-1616-476d-9d56-27e87f61a66a",
    "deepnote_cell_type": "code",
    "deepnote_to_be_reexecuted": false,
    "execution_millis": 1,
    "execution_start": 1611746797739,
    "source_hash": "b64a8e17",
    "tags": []
   },
   "outputs": [
    {
     "data": {
      "text/plain": [
       "array([[3.14, 3.14, 3.14, 3.14, 3.14],\n",
       "       [3.14, 3.14, 3.14, 3.14, 3.14],\n",
       "       [3.14, 3.14, 3.14, 3.14, 3.14]])"
      ]
     },
     "execution_count": 9,
     "metadata": {},
     "output_type": "execute_result"
    }
   ],
   "source": [
    "# 创建一个3*5的浮点型数组，数组的值都是3.14\n",
    "np.full((3,5),3.14)"
   ]
  },
  {
   "cell_type": "code",
   "execution_count": 10,
   "metadata": {
    "cell_id": "00014-838b6704-b296-4342-8e6c-ad03ad99feab",
    "deepnote_cell_type": "code",
    "deepnote_to_be_reexecuted": false,
    "execution_millis": 43,
    "execution_start": 1611746797740,
    "source_hash": "51356ee",
    "tags": []
   },
   "outputs": [
    {
     "data": {
      "text/plain": [
       "array([ 0,  2,  4,  6,  8, 10, 12, 14, 16, 18, 20])"
      ]
     },
     "execution_count": 10,
     "metadata": {},
     "output_type": "execute_result"
    }
   ],
   "source": [
    "# 数组的值是线性序列，从0开始到20，步长2\n",
    "np.arange(0,22,2)"
   ]
  },
  {
   "cell_type": "code",
   "execution_count": 11,
   "metadata": {
    "cell_id": "00015-a67e01f6-ced7-4daa-9a8e-4714483ea70e",
    "deepnote_cell_type": "code",
    "deepnote_to_be_reexecuted": false,
    "execution_millis": 1,
    "execution_start": 1611746797783,
    "source_hash": "eeed297d",
    "tags": []
   },
   "outputs": [
    {
     "data": {
      "text/plain": [
       "array([0.  , 0.25, 0.5 , 0.75, 1.  ])"
      ]
     },
     "execution_count": 11,
     "metadata": {},
     "output_type": "execute_result"
    }
   ],
   "source": [
    "# 创建一个5个元素的数组，数组的值从0到1均匀分配\n",
    "np.linspace(0,1,5)"
   ]
  },
  {
   "cell_type": "code",
   "execution_count": 12,
   "metadata": {
    "cell_id": "00016-b6e6e4a7-f5d8-4c04-8409-f3d414e8a395",
    "deepnote_cell_type": "code",
    "deepnote_to_be_reexecuted": false,
    "execution_millis": 59,
    "execution_start": 1611746797784,
    "source_hash": "bafdee4b",
    "tags": []
   },
   "outputs": [
    {
     "data": {
      "text/plain": [
       "array([[0.5669845 , 0.62483849, 0.18666242],\n",
       "       [0.50876644, 0.5720969 , 0.33804607],\n",
       "       [0.92272516, 0.67253489, 0.72284919]])"
      ]
     },
     "execution_count": 12,
     "metadata": {},
     "output_type": "execute_result"
    },
    {
     "data": {
      "text/plain": [
       "array([[0.23876638, 0.14825908, 0.47182468],\n",
       "       [0.25170139, 0.20330361, 0.0584323 ],\n",
       "       [0.25863351, 0.31150151, 0.66344526]])"
      ]
     },
     "execution_count": 12,
     "metadata": {},
     "output_type": "execute_result"
    }
   ],
   "source": [
    "# 创建一个3*3的,在0-1均匀分布的随机数组\n",
    "np.random.random((3,3))\n",
    "np.random.rand(3,3)"
   ]
  },
  {
   "cell_type": "code",
   "execution_count": 13,
   "metadata": {
    "cell_id": "00017-05b0d517-beef-47c0-9f91-680047e6900f",
    "deepnote_cell_type": "code",
    "deepnote_to_be_reexecuted": false,
    "execution_millis": 1,
    "execution_start": 1611746797843,
    "source_hash": "cecb5e1d",
    "tags": []
   },
   "outputs": [
    {
     "data": {
      "text/plain": [
       "array([[ 0.08546398, -0.76878401, -0.17738325],\n",
       "       [-0.51263744, -0.4366804 ,  0.84496924],\n",
       "       [ 0.30324169, -0.15686152,  0.03042887]])"
      ]
     },
     "execution_count": 13,
     "metadata": {},
     "output_type": "execute_result"
    }
   ],
   "source": [
    "# 创建一个3*3的,均值为0，方差为1的正态分布的随机数组\n",
    "np.random.normal(0,1,(3,3))"
   ]
  },
  {
   "cell_type": "code",
   "execution_count": 14,
   "metadata": {
    "cell_id": "00018-9bef1204-15d0-400d-94f9-b47cd55a2d52",
    "deepnote_cell_type": "code",
    "deepnote_to_be_reexecuted": false,
    "execution_millis": 0,
    "execution_start": 1611746797884,
    "source_hash": "e11f5946",
    "tags": []
   },
   "outputs": [
    {
     "data": {
      "text/plain": [
       "array([[3, 0, 5],\n",
       "       [8, 4, 4],\n",
       "       [7, 7, 0]])"
      ]
     },
     "execution_count": 14,
     "metadata": {},
     "output_type": "execute_result"
    }
   ],
   "source": [
    "# 创建一个3*3的[0,10）区间的随机整数类型\n",
    "np.random.randint(0,10,(3,3))"
   ]
  },
  {
   "cell_type": "code",
   "execution_count": 15,
   "metadata": {
    "cell_id": "00019-35a754a9-af69-4bc8-9274-1d379619c5e6",
    "deepnote_cell_type": "code",
    "deepnote_to_be_reexecuted": false,
    "execution_millis": 0,
    "execution_start": 1611746797885,
    "source_hash": "77f5deb4",
    "tags": []
   },
   "outputs": [
    {
     "data": {
      "text/plain": [
       "array([[1., 0., 0.],\n",
       "       [0., 1., 0.],\n",
       "       [0., 0., 1.]])"
      ]
     },
     "execution_count": 15,
     "metadata": {},
     "output_type": "execute_result"
    }
   ],
   "source": [
    "# 创建一个3*3的单位矩阵\n",
    "np.eye(3)"
   ]
  },
  {
   "cell_type": "code",
   "execution_count": 16,
   "metadata": {
    "cell_id": "00020-c4fb62e3-ed81-46bf-9dc2-7e7fd1ceb2aa",
    "deepnote_cell_type": "code",
    "deepnote_to_be_reexecuted": false,
    "execution_millis": 1,
    "execution_start": 1611746797886,
    "source_hash": "44a6be7c",
    "tags": []
   },
   "outputs": [
    {
     "data": {
      "text/plain": [
       "array([1., 1., 1.])"
      ]
     },
     "execution_count": 16,
     "metadata": {},
     "output_type": "execute_result"
    }
   ],
   "source": [
    "# 创建一个由3个整数组成的未初始化的数组\n",
    "np.empty(3)"
   ]
  },
  {
   "cell_type": "markdown",
   "metadata": {
    "cell_id": "00021-21ac7e2d-34e4-414c-8a8b-aca24eb6ac06",
    "deepnote_cell_type": "markdown",
    "tags": []
   },
   "source": [
    "\n",
    "|Data type|　　Description|  \n",
    "|--- |---| \n",
    "|bool_|Boolean (True or False) stored as a byte  |\n",
    "|int_　　　|Default integer type (same as C long; normally either int64 or int32)  |\n",
    "|intc|Identical to C int (normally int32 or int64)  |\n",
    "|intp　|Integer used for indexing (same as C ssize_t; normally either int32 or int64)  |\n",
    "|int8\t　　|Byte (-128 to 127)  \n",
    "|int16\t　　|Integer (-32768 to 32767)  \n",
    "|int32\t　　|Integer (-2147483648 to 2147483647)  |\n",
    "|int64\t　　|Integer (-9223372036854775808 to 9223372036854775807) | \n",
    "|uint8\t　　|Unsigned integer (0 to 255)  |\n",
    "|uint16　　\t|Unsigned integer (0 to 65535)  |\n",
    "|uint32　　\t|Unsigned integer (0 to 4294967295)  |\n",
    "|uint64　　\t|Unsigned integer (0 to 18446744073709551615)|  \n",
    "|float_\t　　|Shorthand for float64.  |\n",
    "|float16\t|Half precision float: sign bit, 5 bits exponent, 10 bits mantissa  |\n",
    "|float32|Single precision float: sign bit, 8 bits exponent, 23 bits mantissa  |\n",
    "|float64|Double precision float: sign bit, 11 bits exponent, 52 bits mantissa|  \n",
    "|complex_　\t|Shorthand for complex128.  |\n",
    "|complex64　|Complex number, represented by two 32-bit floats  |\n",
    "|complex128　|Complex number, represented by two 64-bit floats  |"
   ]
  },
  {
   "cell_type": "markdown",
   "metadata": {
    "cell_id": "00022-98f5a3e3-cec5-4439-b85b-1bf58eee9cab",
    "deepnote_cell_type": "markdown",
    "tags": []
   },
   "source": [
    "## Numpy数组基础"
   ]
  },
  {
   "cell_type": "markdown",
   "metadata": {
    "cell_id": "00023-80af92c8-a293-45b3-a2c0-bb5e521fa150",
    "deepnote_cell_type": "markdown",
    "tags": []
   },
   "source": [
    "### Numpy数组的属性"
   ]
  },
  {
   "cell_type": "code",
   "execution_count": 17,
   "metadata": {
    "cell_id": "00023-42debb73-110c-49db-ad8b-78f865449f7b",
    "deepnote_cell_type": "code",
    "deepnote_to_be_reexecuted": false,
    "execution_millis": 3,
    "execution_start": 1611746797893,
    "source_hash": "a2774e30",
    "tags": []
   },
   "outputs": [],
   "source": [
    "np.random.seed(0)\n",
    "\n",
    "x1=np.random.randint(10,size=6)\n",
    "x2=np.random.randint(10,size=(3,4))\n",
    "x3=np.random.randint(10,size=(3,4,5))"
   ]
  },
  {
   "cell_type": "code",
   "execution_count": 18,
   "metadata": {
    "cell_id": "00025-88ff1d00-8368-4e3e-9a9f-ff5d0ffb362b",
    "deepnote_cell_type": "code",
    "deepnote_to_be_reexecuted": false,
    "execution_millis": 0,
    "execution_start": 1611746797900,
    "source_hash": "7e79eeb5",
    "tags": []
   },
   "outputs": [
    {
     "name": "stdout",
     "output_type": "stream",
     "text": [
      "x3的维度： 3\n",
      "x3每个维度的大小: (3, 4, 5)\n",
      "x3数组的大小: 60\n",
      "X3元素的数据类型： int32\n",
      "X3元素的字节大小： 4\n",
      "x3 数组总字节大小： 240\n"
     ]
    }
   ],
   "source": [
    "#数组的维度、每个维度的大小、数组的元素数量、数组元素的数据类型、\n",
    "print(\"x3的维度：\",x3.ndim)\n",
    "print(\"x3每个维度的大小:\",x3.shape)\n",
    "print(\"x3数组的大小:\",x3.size)\n",
    "print(\"X3元素的数据类型：\",x3.dtype)\n",
    "print(\"X3元素的字节大小：\",x3.itemsize)\n",
    "print(\"x3 数组总字节大小：\",x3.nbytes)"
   ]
  },
  {
   "cell_type": "code",
   "execution_count": 19,
   "metadata": {
    "cell_id": "00026-ebec4d2d-48ef-4321-9359-f7e64ebf6798",
    "deepnote_cell_type": "code",
    "deepnote_to_be_reexecuted": false,
    "execution_millis": 0,
    "execution_start": 1611746797955,
    "source_hash": "1f83d597",
    "tags": []
   },
   "outputs": [
    {
     "data": {
      "text/plain": [
       "12"
      ]
     },
     "execution_count": 19,
     "metadata": {},
     "output_type": "execute_result"
    }
   ],
   "source": [
    "x2.size"
   ]
  },
  {
   "cell_type": "markdown",
   "metadata": {
    "cell_id": "00027-bd87e14d-fa51-4eb5-9bbe-82c27ca6b178",
    "deepnote_cell_type": "markdown",
    "tags": []
   },
   "source": [
    "### 数组索引：获取单个元素"
   ]
  },
  {
   "cell_type": "code",
   "execution_count": 20,
   "metadata": {
    "cell_id": "00028-f40f9041-ba4b-45a9-aeb2-45d037d7ab86",
    "deepnote_cell_type": "code",
    "deepnote_to_be_reexecuted": false,
    "execution_millis": 0,
    "execution_start": 1611746797956,
    "source_hash": "7c61ac7c",
    "tags": []
   },
   "outputs": [
    {
     "data": {
      "text/plain": [
       "array([5, 0, 3, 3, 7, 9])"
      ]
     },
     "execution_count": 20,
     "metadata": {},
     "output_type": "execute_result"
    },
    {
     "data": {
      "text/plain": [
       "9"
      ]
     },
     "execution_count": 20,
     "metadata": {},
     "output_type": "execute_result"
    },
    {
     "data": {
      "text/plain": [
       "5"
      ]
     },
     "execution_count": 20,
     "metadata": {},
     "output_type": "execute_result"
    }
   ],
   "source": [
    "x1\n",
    "x1[-1]\n",
    "x1[0]"
   ]
  },
  {
   "cell_type": "code",
   "execution_count": 21,
   "metadata": {
    "cell_id": "00029-462eab10-46ae-499d-9709-f9fc5573d88c",
    "deepnote_cell_type": "code",
    "deepnote_to_be_reexecuted": false,
    "execution_millis": 0,
    "execution_start": 1611746797997,
    "source_hash": "44c0f447",
    "tags": []
   },
   "outputs": [
    {
     "data": {
      "text/plain": [
       "array([[3, 5, 2, 4],\n",
       "       [7, 6, 8, 8],\n",
       "       [1, 6, 7, 7]])"
      ]
     },
     "execution_count": 21,
     "metadata": {},
     "output_type": "execute_result"
    },
    {
     "data": {
      "text/plain": [
       "3"
      ]
     },
     "execution_count": 21,
     "metadata": {},
     "output_type": "execute_result"
    }
   ],
   "source": [
    "x2\n",
    "x2[0,0]"
   ]
  },
  {
   "cell_type": "markdown",
   "metadata": {
    "cell_id": "00030-89cbabcd-e341-4d19-a106-6e1542ed0829",
    "deepnote_cell_type": "markdown",
    "tags": []
   },
   "source": [
    "### 数组切片\n"
   ]
  },
  {
   "cell_type": "code",
   "execution_count": 22,
   "metadata": {
    "cell_id": "00031-ce7d2fb7-348d-4e44-b587-5a7dedf1b9a2",
    "deepnote_cell_type": "code",
    "deepnote_to_be_reexecuted": false,
    "execution_millis": 3,
    "execution_start": 1611746797997,
    "source_hash": "b16127c5",
    "tags": []
   },
   "outputs": [
    {
     "data": {
      "text/plain": [
       "array([0, 1, 2, 3, 4, 5, 6, 7, 8, 9])"
      ]
     },
     "execution_count": 22,
     "metadata": {},
     "output_type": "execute_result"
    },
    {
     "data": {
      "text/plain": [
       "array([0, 1, 2, 3, 4])"
      ]
     },
     "execution_count": 22,
     "metadata": {},
     "output_type": "execute_result"
    },
    {
     "data": {
      "text/plain": [
       "array([5, 6, 7, 8, 9])"
      ]
     },
     "execution_count": 22,
     "metadata": {},
     "output_type": "execute_result"
    },
    {
     "data": {
      "text/plain": [
       "array([4])"
      ]
     },
     "execution_count": 22,
     "metadata": {},
     "output_type": "execute_result"
    },
    {
     "data": {
      "text/plain": [
       "array([0, 2, 4, 6, 8])"
      ]
     },
     "execution_count": 22,
     "metadata": {},
     "output_type": "execute_result"
    },
    {
     "data": {
      "text/plain": [
       "array([9, 8, 7, 6, 5, 4, 3, 2, 1, 0])"
      ]
     },
     "execution_count": 22,
     "metadata": {},
     "output_type": "execute_result"
    }
   ],
   "source": [
    "x=np.arange(10)\n",
    "x\n",
    "x[:5]\n",
    "x[5:]\n",
    "x[4:5]\n",
    "x[::2]\n",
    "x[::-1]"
   ]
  },
  {
   "cell_type": "code",
   "execution_count": 23,
   "metadata": {
    "cell_id": "00032-f97d7020-8de3-4435-a5d8-3d2103a248a0",
    "deepnote_cell_type": "code",
    "deepnote_to_be_reexecuted": false,
    "execution_millis": 52,
    "execution_start": 1611746798003,
    "source_hash": "e76b0c61",
    "tags": []
   },
   "outputs": [
    {
     "data": {
      "text/plain": [
       "array([[3, 5, 2, 4],\n",
       "       [7, 6, 8, 8],\n",
       "       [1, 6, 7, 7]])"
      ]
     },
     "execution_count": 23,
     "metadata": {},
     "output_type": "execute_result"
    },
    {
     "data": {
      "text/plain": [
       "array([[3, 5, 2, 4],\n",
       "       [7, 6, 8, 8]])"
      ]
     },
     "execution_count": 23,
     "metadata": {},
     "output_type": "execute_result"
    },
    {
     "data": {
      "text/plain": [
       "array([[3, 5, 2],\n",
       "       [7, 6, 8]])"
      ]
     },
     "execution_count": 23,
     "metadata": {},
     "output_type": "execute_result"
    }
   ],
   "source": [
    "x2\n",
    "x2[:2,]\n",
    "x2[:2,:3]"
   ]
  },
  {
   "cell_type": "code",
   "execution_count": 24,
   "metadata": {
    "cell_id": "00033-1e83f5aa-88df-4060-a58f-1e65bcd1d8f9",
    "deepnote_cell_type": "code",
    "deepnote_to_be_reexecuted": false,
    "execution_millis": 0,
    "execution_start": 1611746798102,
    "source_hash": "e57105a9",
    "tags": []
   },
   "outputs": [
    {
     "data": {
      "text/plain": [
       "array([3, 5, 2, 4])"
      ]
     },
     "execution_count": 24,
     "metadata": {},
     "output_type": "execute_result"
    }
   ],
   "source": [
    "x2[0]"
   ]
  },
  {
   "cell_type": "code",
   "execution_count": 25,
   "metadata": {
    "cell_id": "00034-2684ace7-5bdf-4423-b326-532ae5f0147e",
    "deepnote_cell_type": "code",
    "deepnote_to_be_reexecuted": false,
    "execution_millis": 0,
    "execution_start": 1611746798103,
    "source_hash": "a7a85677",
    "tags": []
   },
   "outputs": [
    {
     "data": {
      "text/plain": [
       "array([[4, 3, 2, 1],\n",
       "       [7, 6, 8, 8],\n",
       "       [1, 6, 7, 7]])"
      ]
     },
     "execution_count": 25,
     "metadata": {},
     "output_type": "execute_result"
    }
   ],
   "source": [
    "#numpy返回的是数组的视图而不是副本\n",
    "x2_sub_1=x2\n",
    "x2_sub_1[0]=[4,3,2,1]\n",
    "x2"
   ]
  },
  {
   "cell_type": "code",
   "execution_count": 26,
   "metadata": {
    "cell_id": "00035-b18f8e4f-0f90-41a1-9b9b-b0d583cf779b",
    "deepnote_cell_type": "code",
    "deepnote_to_be_reexecuted": false,
    "execution_millis": 1,
    "execution_start": 1611746798103,
    "source_hash": "f1518f18",
    "tags": []
   },
   "outputs": [
    {
     "data": {
      "text/plain": [
       "array([[4, 3, 2, 1],\n",
       "       [7, 6, 8, 8],\n",
       "       [1, 6, 7, 7]])"
      ]
     },
     "execution_count": 26,
     "metadata": {},
     "output_type": "execute_result"
    }
   ],
   "source": [
    "#如果要创建副本\n",
    "x2_sub_2=x2.copy()\n",
    "x2_sub_2[0]=[4,3,2,1]\n",
    "x2"
   ]
  },
  {
   "cell_type": "markdown",
   "metadata": {
    "cell_id": "00036-cfae7e33-c919-437c-8356-43ffff23a24b",
    "deepnote_cell_type": "markdown",
    "tags": []
   },
   "source": [
    "### 数组变形\n",
    "reshape\n",
    "newaxis"
   ]
  },
  {
   "cell_type": "code",
   "execution_count": 27,
   "metadata": {
    "cell_id": "00037-b5c9d4e6-633d-421f-9278-03993dbc0d2a",
    "deepnote_cell_type": "code",
    "deepnote_to_be_reexecuted": false,
    "execution_millis": 1,
    "execution_start": 1611746798167,
    "source_hash": "86f0b347",
    "tags": []
   },
   "outputs": [
    {
     "data": {
      "text/plain": [
       "array([[4, 3, 2, 1],\n",
       "       [7, 6, 8, 8],\n",
       "       [1, 6, 7, 7]])"
      ]
     },
     "execution_count": 27,
     "metadata": {},
     "output_type": "execute_result"
    },
    {
     "data": {
      "text/plain": [
       "(3, 4)"
      ]
     },
     "execution_count": 27,
     "metadata": {},
     "output_type": "execute_result"
    },
    {
     "data": {
      "text/plain": [
       "array([[4, 3, 2],\n",
       "       [1, 7, 6],\n",
       "       [8, 8, 1],\n",
       "       [6, 7, 7]])"
      ]
     },
     "execution_count": 27,
     "metadata": {},
     "output_type": "execute_result"
    },
    {
     "data": {
      "text/plain": [
       "array([[4, 3, 2, 1],\n",
       "       [7, 6, 8, 8],\n",
       "       [1, 6, 7, 7]])"
      ]
     },
     "execution_count": 27,
     "metadata": {},
     "output_type": "execute_result"
    }
   ],
   "source": [
    "x2\n",
    "x2.shape\n",
    "x2.reshape((4,3))#\n",
    "x2"
   ]
  },
  {
   "cell_type": "code",
   "execution_count": 28,
   "metadata": {
    "cell_id": "00038-e17efecb-1adf-4779-b21d-7343ab119e8b",
    "deepnote_cell_type": "code",
    "deepnote_to_be_reexecuted": false,
    "execution_millis": 43,
    "execution_start": 1611746798168,
    "source_hash": "e6cf2e40",
    "tags": []
   },
   "outputs": [
    {
     "data": {
      "text/plain": [
       "array([1, 2, 3])"
      ]
     },
     "execution_count": 28,
     "metadata": {},
     "output_type": "execute_result"
    },
    {
     "data": {
      "text/plain": [
       "array([[1, 2, 3]])"
      ]
     },
     "execution_count": 28,
     "metadata": {},
     "output_type": "execute_result"
    },
    {
     "data": {
      "text/plain": [
       "array([[1, 2, 3]])"
      ]
     },
     "execution_count": 28,
     "metadata": {},
     "output_type": "execute_result"
    }
   ],
   "source": [
    "x=np.array([1,2,3])\n",
    "x\n",
    "x.reshape((1,3))\n",
    "x[np.newaxis,:]"
   ]
  },
  {
   "cell_type": "markdown",
   "metadata": {
    "cell_id": "00039-5f3ef38c-647e-4654-b0b2-98d09d60522b",
    "deepnote_cell_type": "markdown",
    "tags": []
   },
   "source": [
    "### 数组拼接和分裂\n",
    "拼接：concatenate vstack hstack\n",
    "分裂：split hsplit vsplit "
   ]
  },
  {
   "cell_type": "code",
   "execution_count": 29,
   "metadata": {
    "cell_id": "00040-063f2a3c-32b3-44e3-89ce-a4ea03beb4bf",
    "deepnote_cell_type": "code",
    "deepnote_to_be_reexecuted": false,
    "execution_millis": 0,
    "execution_start": 1611746798212,
    "source_hash": "ec889a5d",
    "tags": []
   },
   "outputs": [
    {
     "data": {
      "text/plain": [
       "array([1, 2, 3])"
      ]
     },
     "execution_count": 29,
     "metadata": {},
     "output_type": "execute_result"
    },
    {
     "data": {
      "text/plain": [
       "array([4, 5, 6])"
      ]
     },
     "execution_count": 29,
     "metadata": {},
     "output_type": "execute_result"
    },
    {
     "data": {
      "text/plain": [
       "array([1, 2, 3, 4, 5, 6, 7, 8, 9])"
      ]
     },
     "execution_count": 29,
     "metadata": {},
     "output_type": "execute_result"
    }
   ],
   "source": [
    "x=np.array([1,2,3])\n",
    "y=np.array([4,5,6])\n",
    "z=np.array([7,8,9])\n",
    "x\n",
    "y\n",
    "np.concatenate([x,y,z])"
   ]
  },
  {
   "cell_type": "code",
   "execution_count": 30,
   "metadata": {
    "cell_id": "00041-b539193b-29d1-4e4b-a6fa-a6b3936c635f",
    "deepnote_cell_type": "code",
    "deepnote_to_be_reexecuted": false,
    "execution_millis": 100,
    "execution_start": 1611746798213,
    "source_hash": "5657a9b",
    "tags": []
   },
   "outputs": [
    {
     "data": {
      "text/plain": [
       "array([[1, 2, 3],\n",
       "       [4, 5, 6],\n",
       "       [1, 2, 3],\n",
       "       [4, 5, 6]])"
      ]
     },
     "execution_count": 30,
     "metadata": {},
     "output_type": "execute_result"
    },
    {
     "data": {
      "text/plain": [
       "array([[1, 2, 3, 1, 2, 3],\n",
       "       [4, 5, 6, 4, 5, 6]])"
      ]
     },
     "execution_count": 30,
     "metadata": {},
     "output_type": "execute_result"
    },
    {
     "data": {
      "text/plain": [
       "array([[1, 2, 3],\n",
       "       [4, 5, 6],\n",
       "       [1, 2, 3],\n",
       "       [4, 5, 6]])"
      ]
     },
     "execution_count": 30,
     "metadata": {},
     "output_type": "execute_result"
    },
    {
     "data": {
      "text/plain": [
       "array([[1, 2, 3, 1, 2, 3],\n",
       "       [4, 5, 6, 4, 5, 6]])"
      ]
     },
     "execution_count": 30,
     "metadata": {},
     "output_type": "execute_result"
    },
    {
     "data": {
      "text/plain": [
       "array([[[1, 1],\n",
       "        [2, 2],\n",
       "        [3, 3]],\n",
       "\n",
       "       [[4, 4],\n",
       "        [5, 5],\n",
       "        [6, 6]]])"
      ]
     },
     "execution_count": 30,
     "metadata": {},
     "output_type": "execute_result"
    }
   ],
   "source": [
    "y=x=np.arange(1,7).reshape(2,3)\n",
    "np.concatenate([x,y])\n",
    "np.concatenate([x,y],axis=1)\n",
    "np.vstack([x,y])\n",
    "np.hstack([x,y])\n",
    "np.dstack([x,y])"
   ]
  },
  {
   "cell_type": "code",
   "execution_count": 31,
   "metadata": {
    "cell_id": "00042-b308b0fd-3c53-4105-a21b-11821e420c34",
    "deepnote_cell_type": "code",
    "deepnote_to_be_reexecuted": false,
    "execution_millis": 17,
    "execution_start": 1611746798315,
    "source_hash": "5a563cf1",
    "tags": []
   },
   "outputs": [
    {
     "data": {
      "text/plain": [
       "array([ 48, 640, 132, 973, 869, 181, 847, 144, 661, 228, 955, 792, 720,\n",
       "       910, 374, 854])"
      ]
     },
     "execution_count": 31,
     "metadata": {},
     "output_type": "execute_result"
    },
    {
     "data": {
      "text/plain": [
       "(array([ 48, 640, 132]),\n",
       " array([973, 869]),\n",
       " array([181, 847, 144, 661, 228, 955, 792, 720, 910, 374, 854]))"
      ]
     },
     "execution_count": 31,
     "metadata": {},
     "output_type": "execute_result"
    }
   ],
   "source": [
    "#数组分裂\n",
    "x=np.random.randint(1,999,16)\n",
    "x1,x2,x3=np.split(x,[3,5])\n",
    "x\n",
    "x1,x2,x3"
   ]
  },
  {
   "cell_type": "code",
   "execution_count": 32,
   "metadata": {
    "cell_id": "00043-6d689c78-5dd1-4025-8a5a-0f30f13897d3",
    "deepnote_cell_type": "code",
    "deepnote_to_be_reexecuted": false,
    "execution_millis": 33,
    "execution_start": 1611746798339,
    "source_hash": "77f684a7",
    "tags": []
   },
   "outputs": [
    {
     "data": {
      "text/plain": [
       "array([[ 48, 640, 132, 973],\n",
       "       [869, 181, 847, 144],\n",
       "       [661, 228, 955, 792],\n",
       "       [720, 910, 374, 854]])"
      ]
     },
     "execution_count": 32,
     "metadata": {},
     "output_type": "execute_result"
    },
    {
     "name": "stdout",
     "output_type": "stream",
     "text": [
      "vsplit: (array([[ 48, 640, 132, 973],\n",
      "       [869, 181, 847, 144]]), array([[661, 228, 955, 792],\n",
      "       [720, 910, 374, 854]]))\n",
      "hsplit: (array([[ 48, 640],\n",
      "       [869, 181],\n",
      "       [661, 228],\n",
      "       [720, 910]]), array([[132, 973],\n",
      "       [847, 144],\n",
      "       [955, 792],\n",
      "       [374, 854]]))\n"
     ]
    }
   ],
   "source": [
    "x=x.reshape((4,4))\n",
    "upper,lower=np.vsplit(x,[2])\n",
    "left,right=np.hsplit(x,[2])\n",
    "x\n",
    "print(\"vsplit:\",(upper,lower))\n",
    "print(\"hsplit:\",(left,right))"
   ]
  },
  {
   "cell_type": "markdown",
   "metadata": {
    "cell_id": "00044-e78edfd9-66e9-48b6-84ec-91166d8a949f",
    "deepnote_cell_type": "markdown",
    "tags": []
   },
   "source": [
    "## Numpy的通用函数\n",
    "Numpy数组计算更快的关键是利用向量化操作，通常在Numpy的通用函数中实现（ufunc）"
   ]
  },
  {
   "cell_type": "markdown",
   "metadata": {
    "cell_id": "00045-46ce8413-d847-4326-9537-331169ffa0bf",
    "deepnote_cell_type": "markdown",
    "tags": []
   },
   "source": [
    "### 缓慢的循环"
   ]
  },
  {
   "cell_type": "code",
   "execution_count": 33,
   "metadata": {
    "cell_id": "00046-b12efa89-6364-4fcc-a9b6-ba33b8e08e27",
    "deepnote_cell_type": "code",
    "deepnote_to_be_reexecuted": false,
    "execution_millis": 0,
    "execution_start": 1611746798415,
    "source_hash": "4af44266",
    "tags": []
   },
   "outputs": [],
   "source": [
    "def compute_reciprocals(values):\n",
    "    output=np.empty(len(values))\n",
    "    for i in range(len(values)):\n",
    "        output[i]=1.0/values[i]\n",
    "    return output\n",
    "values=np.random.randint(1,10,size=5)\n"
   ]
  },
  {
   "cell_type": "code",
   "execution_count": 34,
   "metadata": {
    "cell_id": "00047-c44783e3-576b-4e7f-8c30-01d9a6f0a69b",
    "deepnote_cell_type": "code",
    "deepnote_to_be_reexecuted": false,
    "execution_millis": 54931,
    "execution_start": 1611746798416,
    "source_hash": "90bc8465",
    "tags": []
   },
   "outputs": [
    {
     "name": "stdout",
     "output_type": "stream",
     "text": [
      "3.4 s ± 11 ms per loop (mean ± std. dev. of 7 runs, 1 loop each)\n"
     ]
    }
   ],
   "source": [
    "big_array=np.random.randint(1,100,size=1000000)\n",
    "%timeit compute_reciprocals(big_array)"
   ]
  },
  {
   "cell_type": "markdown",
   "metadata": {
    "cell_id": "00048-8552f011-c53a-48eb-b9fd-0b6f3bfb7bb9",
    "deepnote_cell_type": "markdown",
    "tags": []
   },
   "source": [
    "### 通用函数介绍"
   ]
  },
  {
   "cell_type": "code",
   "execution_count": 35,
   "metadata": {
    "cell_id": "00048-1ec5629b-1c70-42f7-a7c5-732d85a3cd6d",
    "deepnote_cell_type": "code",
    "deepnote_to_be_reexecuted": false,
    "execution_millis": 2939,
    "execution_start": 1611746853347,
    "source_hash": "72b0f37e",
    "tags": []
   },
   "outputs": [
    {
     "name": "stdout",
     "output_type": "stream",
     "text": [
      "4.74 ms ± 25 µs per loop (mean ± std. dev. of 7 runs, 100 loops each)\n"
     ]
    }
   ],
   "source": [
    "%timeit (1.0/big_array)"
   ]
  },
  {
   "cell_type": "markdown",
   "metadata": {
    "cell_id": "00050-6a69ee7f-8df6-445d-9170-56090a38c846",
    "deepnote_cell_type": "markdown",
    "tags": []
   },
   "source": [
    "### 探索通用函数\n",
    "更加专用的通用函数可以采用scipy.special库包含的函数"
   ]
  },
  {
   "cell_type": "code",
   "execution_count": 36,
   "metadata": {
    "cell_id": "00051-88632b2a-e078-48a6-b39e-296fe20fb312",
    "deepnote_cell_type": "code",
    "deepnote_to_be_reexecuted": false,
    "execution_millis": 171,
    "execution_start": 1611746856299,
    "source_hash": "2961d636",
    "tags": []
   },
   "outputs": [
    {
     "data": {
      "text/plain": [
       "<ufunc 'add'>"
      ]
     },
     "execution_count": 36,
     "metadata": {},
     "output_type": "execute_result"
    },
    {
     "data": {
      "text/plain": [
       "<ufunc 'subtract'>"
      ]
     },
     "execution_count": 36,
     "metadata": {},
     "output_type": "execute_result"
    },
    {
     "data": {
      "text/plain": [
       "<ufunc 'negative'>"
      ]
     },
     "execution_count": 36,
     "metadata": {},
     "output_type": "execute_result"
    },
    {
     "data": {
      "text/plain": [
       "<ufunc 'multiply'>"
      ]
     },
     "execution_count": 36,
     "metadata": {},
     "output_type": "execute_result"
    },
    {
     "data": {
      "text/plain": [
       "<ufunc 'true_divide'>"
      ]
     },
     "execution_count": 36,
     "metadata": {},
     "output_type": "execute_result"
    },
    {
     "data": {
      "text/plain": [
       "<ufunc 'floor_divide'>"
      ]
     },
     "execution_count": 36,
     "metadata": {},
     "output_type": "execute_result"
    },
    {
     "data": {
      "text/plain": [
       "<ufunc 'power'>"
      ]
     },
     "execution_count": 36,
     "metadata": {},
     "output_type": "execute_result"
    },
    {
     "data": {
      "text/plain": [
       "<ufunc 'remainder'>"
      ]
     },
     "execution_count": 36,
     "metadata": {},
     "output_type": "execute_result"
    },
    {
     "data": {
      "text/plain": [
       "<ufunc 'absolute'>"
      ]
     },
     "execution_count": 36,
     "metadata": {},
     "output_type": "execute_result"
    }
   ],
   "source": [
    "#数组的算术运算\n",
    "np.add\n",
    "np.subtract\n",
    "np.negative\n",
    "np.multiply\n",
    "np.divide\n",
    "np.floor_divide\n",
    "np.power\n",
    "np.mod\n",
    "np.abs"
   ]
  },
  {
   "cell_type": "code",
   "execution_count": 37,
   "metadata": {
    "cell_id": "00052-206f2d2b-e6cc-4074-9fee-39a9a74f2707",
    "deepnote_cell_type": "code",
    "deepnote_to_be_reexecuted": false,
    "execution_millis": 1,
    "execution_start": 1611746856515,
    "source_hash": "1be9f254",
    "tags": []
   },
   "outputs": [
    {
     "name": "stdout",
     "output_type": "stream",
     "text": [
      "theta= [0.         1.57079633 3.14159265]\n",
      "sin(theta)= [0.0000000e+00 1.0000000e+00 1.2246468e-16]\n",
      "cos(theta)= [ 1.000000e+00  6.123234e-17 -1.000000e+00]\n",
      "tan(theta)= [ 0.00000000e+00  1.63312394e+16 -1.22464680e-16]\n"
     ]
    }
   ],
   "source": [
    "#三角函数\n",
    "theta=np.linspace(0,np.pi,3)\n",
    "print(\"theta=\",theta)\n",
    "print(\"sin(theta)=\",np.sin(theta))\n",
    "print(\"cos(theta)=\",np.cos(theta))\n",
    "print(\"tan(theta)=\",np.tan(theta))"
   ]
  },
  {
   "cell_type": "code",
   "execution_count": 38,
   "metadata": {
    "cell_id": "00053-9b133401-c628-4053-bb46-5f58e13ebee9",
    "deepnote_cell_type": "code",
    "deepnote_to_be_reexecuted": false,
    "execution_millis": 44,
    "execution_start": 1611746856516,
    "source_hash": "dbd4fd7c",
    "tags": []
   },
   "outputs": [
    {
     "name": "stdout",
     "output_type": "stream",
     "text": [
      "x= [-1, 0, 1]\n",
      "arcsin(x)= [-1.57079633  0.          1.57079633]\n",
      "arccos(x)= [3.14159265 1.57079633 0.        ]\n",
      "arctan(x)= [-0.78539816  0.          0.78539816]\n"
     ]
    }
   ],
   "source": [
    "#逆三角函数\n",
    "x=[-1,0,1]\n",
    "print(\"x=\",x)\n",
    "print(\"arcsin(x)=\",np.arcsin(x))\n",
    "print(\"arccos(x)=\",np.arccos(x))\n",
    "print(\"arctan(x)=\",np.arctan(x))\n"
   ]
  },
  {
   "cell_type": "code",
   "execution_count": 39,
   "metadata": {
    "cell_id": "00054-332d987b-ea83-424b-8deb-6e17548e9915",
    "deepnote_cell_type": "code",
    "deepnote_to_be_reexecuted": false,
    "execution_millis": 0,
    "execution_start": 1611746856561,
    "source_hash": "821e97c7",
    "tags": []
   },
   "outputs": [
    {
     "name": "stdout",
     "output_type": "stream",
     "text": [
      "x= [1, 2, 3]\n",
      "e^x= [ 2.71828183  7.3890561  20.08553692]\n",
      "2^x= [2. 4. 8.]\n",
      "3^x= [ 3  9 27]\n",
      "x= [1, 2, 4, 10]\n",
      "ln(x)= [0.         0.69314718 1.38629436 2.30258509]\n",
      "log2(x)= [0.         1.         2.         3.32192809]\n",
      "log10(x)= [0.         0.30103    0.60205999 1.        ]\n"
     ]
    }
   ],
   "source": [
    "#指数和对数\n",
    "x=[1,2,3]\n",
    "print(\"x=\",x)\n",
    "print(\"e^x=\",np.exp(x))\n",
    "print(\"2^x=\",np.exp2(x))\n",
    "print(\"3^x=\",np.power(3,x))\n",
    "\n",
    "x=[1,2,4,10]\n",
    "print(\"x=\",x)\n",
    "print(\"ln(x)=\",np.log(x))\n",
    "print(\"log2(x)=\",np.log2(x))\n",
    "print(\"log10(x)=\",np.log10(x))"
   ]
  },
  {
   "cell_type": "code",
   "execution_count": 40,
   "metadata": {
    "cell_id": "00055-82cb9954-200d-42bd-b835-7dde9d0c0f68",
    "deepnote_cell_type": "code",
    "deepnote_to_be_reexecuted": false,
    "execution_millis": 35,
    "execution_start": 1611746856562,
    "source_hash": "ab0cd23d",
    "tags": []
   },
   "outputs": [
    {
     "name": "stdout",
     "output_type": "stream",
     "text": [
      "exp(x)-1= [0.         0.0010005  0.01005017 0.10517092]\n",
      "log(1+x)= [0.         0.0009995  0.00995033 0.09531018]\n"
     ]
    }
   ],
   "source": [
    "#特殊版本的函数，对非常小的输入值保持较好的精度\n",
    "x=[0,0.001,0.01,0.1]\n",
    "print(\"exp(x)-1=\",np.expm1(x))\n",
    "print(\"log(1+x)=\",np.log1p(x))"
   ]
  },
  {
   "cell_type": "markdown",
   "metadata": {
    "cell_id": "00056-52eb2358-149f-4ae7-b7e2-035a4266ef41",
    "deepnote_cell_type": "markdown",
    "tags": []
   },
   "source": [
    "### 高级的通用函数特性"
   ]
  },
  {
   "cell_type": "code",
   "execution_count": 41,
   "metadata": {
    "cell_id": "00057-3c8394f4-3cbd-4a6c-b5e9-fa81ae3fd2c5",
    "deepnote_cell_type": "code",
    "deepnote_to_be_reexecuted": false,
    "execution_millis": 0,
    "execution_start": 1611746856598,
    "source_hash": "adaa6c83",
    "tags": []
   },
   "outputs": [
    {
     "data": {
      "text/plain": [
       "array([ 0., 10., 20., 30., 40.])"
      ]
     },
     "execution_count": 41,
     "metadata": {},
     "output_type": "execute_result"
    },
    {
     "name": "stdout",
     "output_type": "stream",
     "text": [
      "[ 0. 10. 20. 30. 40.]\n"
     ]
    }
   ],
   "source": [
    "# 指定存储输出的变量，比起输出结果存储在临时变量中再赋值给结果变量更节省内存\n",
    "x=np.arange(5)\n",
    "y=np.empty(5)\n",
    "np.multiply(x,10,out=y)\n",
    "print(y)"
   ]
  },
  {
   "cell_type": "code",
   "execution_count": 42,
   "metadata": {
    "cell_id": "00058-d9eb8fe2-5987-4a1b-a302-6bfd59a5cc5d",
    "deepnote_cell_type": "code",
    "deepnote_to_be_reexecuted": false,
    "execution_millis": 0,
    "execution_start": 1611746856599,
    "source_hash": "fd347299",
    "tags": []
   },
   "outputs": [
    {
     "data": {
      "text/plain": [
       "15"
      ]
     },
     "execution_count": 42,
     "metadata": {},
     "output_type": "execute_result"
    },
    {
     "data": {
      "text/plain": [
       "120"
      ]
     },
     "execution_count": 42,
     "metadata": {},
     "output_type": "execute_result"
    },
    {
     "data": {
      "text/plain": [
       "array([ 1,  3,  6, 10, 15], dtype=int32)"
      ]
     },
     "execution_count": 42,
     "metadata": {},
     "output_type": "execute_result"
    },
    {
     "data": {
      "text/plain": [
       "array([  1,   2,   6,  24, 120], dtype=int32)"
      ]
     },
     "execution_count": 42,
     "metadata": {},
     "output_type": "execute_result"
    }
   ],
   "source": [
    "#聚合\n",
    "x=np.arange(1,6)\n",
    "np.add.reduce(x)\n",
    "np.multiply.reduce(x)\n",
    "np.add.accumulate(x)\n",
    "np.multiply.accumulate(x)"
   ]
  },
  {
   "cell_type": "code",
   "execution_count": 43,
   "metadata": {
    "cell_id": "00059-3ec4f8b3-6c6e-4e1e-bb0e-3c09ac08a3d5",
    "deepnote_cell_type": "code",
    "deepnote_to_be_reexecuted": false,
    "execution_millis": 0,
    "execution_start": 1611746856613,
    "source_hash": "acec464f",
    "tags": []
   },
   "outputs": [
    {
     "data": {
      "text/plain": [
       "array([[ 1,  2,  3,  4,  5],\n",
       "       [ 2,  4,  6,  8, 10],\n",
       "       [ 3,  6,  9, 12, 15],\n",
       "       [ 4,  8, 12, 16, 20],\n",
       "       [ 5, 10, 15, 20, 25]])"
      ]
     },
     "execution_count": 43,
     "metadata": {},
     "output_type": "execute_result"
    }
   ],
   "source": [
    "#外积\n",
    "np.multiply.outer(x,x)"
   ]
  },
  {
   "cell_type": "markdown",
   "metadata": {
    "cell_id": "00060-1271ba2f-d259-4cae-9d1f-c03c97f0c2ab",
    "deepnote_cell_type": "markdown",
    "tags": []
   },
   "source": [
    "## 4 聚合：最小值、最大值、其他值"
   ]
  },
  {
   "cell_type": "markdown",
   "metadata": {
    "cell_id": "00061-490d1c92-41f0-435c-91c3-c055332ccd0b",
    "deepnote_cell_type": "markdown",
    "tags": []
   },
   "source": [
    "### 数组值求和"
   ]
  },
  {
   "cell_type": "code",
   "execution_count": 44,
   "metadata": {
    "cell_id": "00062-268dd3d4-a604-4011-90fc-946921ae263e",
    "deepnote_cell_type": "code",
    "deepnote_to_be_reexecuted": false,
    "execution_millis": 17363,
    "execution_start": 1611746856663,
    "source_hash": "728a0dd4",
    "tags": []
   },
   "outputs": [
    {
     "name": "stdout",
     "output_type": "stream",
     "text": [
      "204 ms ± 6.91 ms per loop (mean ± std. dev. of 7 runs, 1 loop each)\n",
      "439 µs ± 5.19 µs per loop (mean ± std. dev. of 7 runs, 1000 loops each)\n"
     ]
    }
   ],
   "source": [
    "L=np.random.random(1000000)\n",
    "%timeit sum(big_array)\n",
    "%timeit np.sum(big_array)"
   ]
  },
  {
   "cell_type": "markdown",
   "metadata": {
    "cell_id": "00063-65466759-0d36-41ff-a870-4eb77c212331",
    "deepnote_cell_type": "markdown",
    "tags": []
   },
   "source": [
    "### 最小值和最大值"
   ]
  },
  {
   "cell_type": "code",
   "execution_count": 45,
   "metadata": {
    "cell_id": "00063-3b3835e6-32ad-4a3d-b15b-6736c8200975",
    "deepnote_cell_type": "code",
    "deepnote_to_be_reexecuted": false,
    "execution_millis": 18,
    "execution_start": 1611746874035,
    "source_hash": "526d62b8",
    "tags": []
   },
   "outputs": [
    {
     "data": {
      "text/plain": [
       "1"
      ]
     },
     "execution_count": 45,
     "metadata": {},
     "output_type": "execute_result"
    },
    {
     "data": {
      "text/plain": [
       "99"
      ]
     },
     "execution_count": 45,
     "metadata": {},
     "output_type": "execute_result"
    },
    {
     "data": {
      "text/plain": [
       "49989047"
      ]
     },
     "execution_count": 45,
     "metadata": {},
     "output_type": "execute_result"
    }
   ],
   "source": [
    "big_array.min()\n",
    "big_array.max()\n",
    "big_array.sum()"
   ]
  },
  {
   "cell_type": "code",
   "execution_count": 46,
   "metadata": {
    "cell_id": "00065-1b98deaa-7d16-4fd5-abf1-a393765346ca",
    "deepnote_cell_type": "code",
    "deepnote_to_be_reexecuted": false,
    "execution_millis": 14,
    "execution_start": 1611746874055,
    "source_hash": "297029b1",
    "tags": []
   },
   "outputs": [
    {
     "data": {
      "text/plain": [
       "array([[0.78094553, 0.24695578, 0.55846899, 0.36822725],\n",
       "       [0.47507029, 0.2898924 , 0.25126433, 0.56789633],\n",
       "       [0.5527829 , 0.03901305, 0.53291053, 0.61521127]])"
      ]
     },
     "execution_count": 46,
     "metadata": {},
     "output_type": "execute_result"
    },
    {
     "data": {
      "text/plain": [
       "array([0.47507029, 0.03901305, 0.25126433, 0.36822725])"
      ]
     },
     "execution_count": 46,
     "metadata": {},
     "output_type": "execute_result"
    },
    {
     "data": {
      "text/plain": [
       "array([0.24695578, 0.25126433, 0.03901305])"
      ]
     },
     "execution_count": 46,
     "metadata": {},
     "output_type": "execute_result"
    }
   ],
   "source": [
    "#按维度聚合\n",
    "M=np.random.random((3,4))\n",
    "M\n",
    "M.min(axis=0)\n",
    "M.min(axis=1)"
   ]
  },
  {
   "cell_type": "markdown",
   "metadata": {
    "cell_id": "00066-e19d78f5-2b94-426b-8672-b57e699c826a",
    "deepnote_cell_type": "markdown",
    "tags": []
   },
   "source": [
    "其他聚合函数  \n",
    "\n",
    "|Function Name|NaN-safe Version|Description|\n",
    "| ---|---|---|  \n",
    "|np.sum\t|np.nansum|\tCompute sum of elements|  \n",
    "|np.prod|\tnp.nanprod|\tCompute product of elements  |\n",
    "|np.mean|\tnp.nanmean\t|Compute mean of elements  |\n",
    "|np.std\t|np.nanstd\t|Compute standard deviation | \n",
    "|np.var|\tnp.nanvar|\tCompute variance  |\n",
    "|np.min|\tnp.nanmin\t|Find minimum value  |\n",
    "|np.max|\tnp.nanmax|\tFind maximum value | \n",
    "|np.argmin|\tnp.nanargmin|\tFind index of minimum value  |\n",
    "|np.argmax|\tnp.nanargmax|\tFind index of maximum value  |\n",
    "|np.median|\tnp.nanmedian|\tCompute median of elements  |\n",
    "|np.percentile\t|np.nanpercentile|\tCompute rank-based statistics of elements  |\n",
    "|np.any|\tN/A\t|Evaluate whether any elements are true  |\n",
    "|np.all|\tN/A\t|Evaluate whether all elements are true  |"
   ]
  },
  {
   "cell_type": "markdown",
   "metadata": {
    "cell_id": "00067-28508563-671f-4d17-a826-01cf707873c3",
    "deepnote_cell_type": "markdown",
    "tags": []
   },
   "source": [
    "### 美国总统的身高"
   ]
  },
  {
   "cell_type": "code",
   "execution_count": 47,
   "metadata": {
    "cell_id": "00068-33743c75-019c-49aa-982e-51bc23133b17",
    "deepnote_cell_type": "code",
    "deepnote_to_be_reexecuted": false,
    "execution_millis": 20,
    "execution_start": 1611747119529,
    "source_hash": "f68d65c4",
    "tags": []
   },
   "outputs": [
    {
     "data": {
      "text/plain": [
       "'1.1.5'"
      ]
     },
     "execution_count": 47,
     "metadata": {},
     "output_type": "execute_result"
    },
    {
     "name": "stdout",
     "output_type": "stream",
     "text": [
      "平均身高： 179.73809523809524\n",
      "身高标准差： 6.931843442745892\n",
      "最矮: 163\n",
      "最高： 193\n",
      "25%位数： 174.25\n",
      "中位数： 182.0\n",
      "75%位数： 183.0\n"
     ]
    }
   ],
   "source": [
    "import pandas as pd\n",
    "pd.__version__\n",
    "data=pd.read_csv('data/president_heights.csv')\n",
    "heights=np.array(data['height(cm)'])\n",
    "print(\"平均身高：\",heights.mean())\n",
    "print(\"身高标准差：\",heights.std())\n",
    "print(\"最矮:\",heights.min())\n",
    "print(\"最高：\",heights.max())\n",
    "print(\"25%位数：\",np.percentile(heights,25))\n",
    "print(\"中位数：\",np.median(heights))\n",
    "print(\"75%位数：\",np.percentile(heights,75))"
   ]
  },
  {
   "cell_type": "code",
   "execution_count": 103,
   "metadata": {
    "cell_id": "00069-cf71b16a-8578-41d3-be2f-caa808b36407",
    "deepnote_cell_type": "code",
    "deepnote_to_be_reexecuted": false,
    "execution_millis": 527,
    "execution_start": 1611747371707,
    "source_hash": "d49824d9",
    "tags": []
   },
   "outputs": [
    {
     "data": {
      "text/plain": [
       "(array([ 1.,  2.,  3.,  5.,  3.,  6., 12.,  3.,  5.,  2.]),\n",
       " array([163., 166., 169., 172., 175., 178., 181., 184., 187., 190., 193.]),\n",
       " <a list of 10 Patch objects>)"
      ]
     },
     "execution_count": 103,
     "metadata": {},
     "output_type": "execute_result"
    },
    {
     "data": {
      "text/plain": [
       "Text(0.5, 1.0, '美国总统身高分布')"
      ]
     },
     "execution_count": 103,
     "metadata": {},
     "output_type": "execute_result"
    },
    {
     "data": {
      "text/plain": [
       "Text(0.5, 0, '身高（厘米）')"
      ]
     },
     "execution_count": 103,
     "metadata": {},
     "output_type": "execute_result"
    },
    {
     "data": {
      "text/plain": [
       "Text(0, 0.5, '人数')"
      ]
     },
     "execution_count": 103,
     "metadata": {},
     "output_type": "execute_result"
    },
    {
     "data": {
      "image/png": "[encoded data removed]",
      "text/plain": [
       "<Figure size 432x288 with 1 Axes>"
      ]
     },
     "metadata": {},
     "output_type": "display_data"
    }
   ],
   "source": [
    "%matplotlib inline\n",
    "import matplotlib.pyplot as plt\n",
    "import seaborn\n",
    "seaborn.set()\n",
    "import warnings\n",
    "warnings.filterwarnings(\"ignore\")\n",
    "plt.hist(heights)\n",
    "plt.title(\"美国总统身高分布\")\n",
    "plt.xlabel(\"身高（厘米）\")\n",
    "plt.ylabel(\"人数\")"
   ]
  },
  {
   "cell_type": "markdown",
   "metadata": {
    "cell_id": "00070-4949701b-52c3-42e3-a5a6-fe56d7eb86c2",
    "deepnote_cell_type": "markdown",
    "tags": []
   },
   "source": [
    "## 数组广播\n",
    "### 广播的介绍"
   ]
  },
  {
   "cell_type": "code",
   "execution_count": 49,
   "metadata": {
    "cell_id": "00071-5f6e81d0-d656-46ed-8e0f-e0a24c1ba176",
    "deepnote_cell_type": "code",
    "deepnote_to_be_reexecuted": false,
    "execution_millis": 30,
    "execution_start": 1611747588772,
    "source_hash": "192e3b90",
    "tags": []
   },
   "outputs": [
    {
     "data": {
      "text/plain": [
       "array([0, 1, 2])"
      ]
     },
     "execution_count": 49,
     "metadata": {},
     "output_type": "execute_result"
    },
    {
     "data": {
      "text/plain": [
       "array([[0],\n",
       "       [1],\n",
       "       [2]])"
      ]
     },
     "execution_count": 49,
     "metadata": {},
     "output_type": "execute_result"
    },
    {
     "data": {
      "text/plain": [
       "array([[0, 1, 2],\n",
       "       [1, 2, 3],\n",
       "       [2, 3, 4]])"
      ]
     },
     "execution_count": 49,
     "metadata": {},
     "output_type": "execute_result"
    }
   ],
   "source": [
    "a=np.arange(3)\n",
    "b=np.arange(3)[:,np.newaxis]\n",
    "a\n",
    "b\n",
    "a+b\n"
   ]
  },
  {
   "cell_type": "markdown",
   "metadata": {
    "cell_id": "00072-8696a0c5-078b-4e89-86c1-6095efc90f19",
    "deepnote_cell_type": "markdown",
    "tags": []
   },
   "source": [
    "### 广播的规则\n",
    "- 如果维度数不等，小维度数组会在最左边补1\n",
    "- 如果在任何一个维度都不等，数组的形状会沿着维度为1的维度扩展以匹配另一个数组\n",
    "- 如果两个数组的形状在任一维度都不匹配且没有维度等于1，则引发异常"
   ]
  },
  {
   "cell_type": "code",
   "execution_count": 50,
   "metadata": {
    "cell_id": "00073-4e1fcebc-6fa8-4232-bf0a-42b7585dc0d8",
    "deepnote_cell_type": "code",
    "deepnote_to_be_reexecuted": false,
    "execution_millis": 23,
    "execution_start": 1611748214279,
    "source_hash": "fac5a809",
    "tags": []
   },
   "outputs": [
    {
     "data": {
      "text/plain": [
       "array([[1., 1., 1.],\n",
       "       [1., 1., 1.]])"
      ]
     },
     "execution_count": 50,
     "metadata": {},
     "output_type": "execute_result"
    },
    {
     "data": {
      "text/plain": [
       "array([0, 1, 2])"
      ]
     },
     "execution_count": 50,
     "metadata": {},
     "output_type": "execute_result"
    },
    {
     "data": {
      "text/plain": [
       "array([[1., 2., 3.],\n",
       "       [1., 2., 3.]])"
      ]
     },
     "execution_count": 50,
     "metadata": {},
     "output_type": "execute_result"
    }
   ],
   "source": [
    "M=np.ones((2,3))\n",
    "a=np.arange(3)\n",
    "M\n",
    "a\n",
    "M+a"
   ]
  },
  {
   "cell_type": "code",
   "execution_count": 51,
   "metadata": {
    "cell_id": "00074-b46a683d-8fa4-4ab7-900c-dcc41ff561aa",
    "deepnote_cell_type": "code",
    "deepnote_to_be_reexecuted": false,
    "execution_millis": 45,
    "execution_start": 1611748879759,
    "source_hash": "50834da0",
    "tags": []
   },
   "outputs": [
    {
     "data": {
      "text/plain": [
       "array([[0],\n",
       "       [1],\n",
       "       [2]])"
      ]
     },
     "execution_count": 51,
     "metadata": {},
     "output_type": "execute_result"
    },
    {
     "data": {
      "text/plain": [
       "array([0, 1, 2])"
      ]
     },
     "execution_count": 51,
     "metadata": {},
     "output_type": "execute_result"
    },
    {
     "data": {
      "text/plain": [
       "array([[0, 1, 2],\n",
       "       [1, 2, 3],\n",
       "       [2, 3, 4]])"
      ]
     },
     "execution_count": 51,
     "metadata": {},
     "output_type": "execute_result"
    }
   ],
   "source": [
    "a=np.arange(3).reshape((3,1))\n",
    "b=np.arange(3)\n",
    "a\n",
    "b\n",
    "a+b"
   ]
  },
  {
   "cell_type": "code",
   "execution_count": 52,
   "metadata": {
    "cell_id": "00075-5f81412b-ef2a-4be3-ba5a-b41b764d0933",
    "deepnote_cell_type": "code",
    "deepnote_to_be_reexecuted": false,
    "execution_millis": 0,
    "execution_start": 1611749043872,
    "source_hash": "5a642779",
    "tags": []
   },
   "outputs": [
    {
     "ename": "ValueError",
     "evalue": "operands could not be broadcast together with shapes (3,2) (3,) ",
     "output_type": "error",
     "traceback": [
      "\u001b[1;31m---------------------------------------------------------------------------\u001b[0m",
      "\u001b[1;31mValueError\u001b[0m                                Traceback (most recent call last)",
      "\u001b[1;32m<ipython-input-52-00efebcb65eb>\u001b[0m in \u001b[0;36m<module>\u001b[1;34m()\u001b[0m\n\u001b[0;32m      1\u001b[0m \u001b[0mm\u001b[0m\u001b[1;33m=\u001b[0m\u001b[0mnp\u001b[0m\u001b[1;33m.\u001b[0m\u001b[0mones\u001b[0m\u001b[1;33m(\u001b[0m\u001b[1;33m(\u001b[0m\u001b[1;36m3\u001b[0m\u001b[1;33m,\u001b[0m\u001b[1;36m2\u001b[0m\u001b[1;33m)\u001b[0m\u001b[1;33m)\u001b[0m\u001b[1;33m\u001b[0m\u001b[0m\n\u001b[0;32m      2\u001b[0m \u001b[0ma\u001b[0m\u001b[1;33m=\u001b[0m\u001b[0mnp\u001b[0m\u001b[1;33m.\u001b[0m\u001b[0marange\u001b[0m\u001b[1;33m(\u001b[0m\u001b[1;36m3\u001b[0m\u001b[1;33m)\u001b[0m\u001b[1;33m\u001b[0m\u001b[0m\n\u001b[1;32m----> 3\u001b[1;33m \u001b[0mm\u001b[0m\u001b[1;33m+\u001b[0m\u001b[0ma\u001b[0m\u001b[1;33m\u001b[0m\u001b[0m\n\u001b[0m",
      "\u001b[1;31mValueError\u001b[0m: operands could not be broadcast together with shapes (3,2) (3,) "
     ]
    }
   ],
   "source": [
    "m=np.ones((3,2))\n",
    "a=np.arange(3)\n",
    "m+a\n"
   ]
  },
  {
   "cell_type": "code",
   "execution_count": null,
   "metadata": {
    "cell_id": "00076-8490a71f-e061-4c8b-b3f2-a7a61afd1589",
    "deepnote_cell_type": "code",
    "deepnote_to_be_reexecuted": false,
    "execution_millis": 11,
    "execution_start": 1611749060707,
    "source_hash": "c65782fe",
    "tags": []
   },
   "outputs": [],
   "source": [
    "m+a[:,np.newaxis]"
   ]
  },
  {
   "cell_type": "markdown",
   "metadata": {
    "cell_id": "00077-012066a8-55ad-455c-b77b-a8e45ff7ec49",
    "deepnote_cell_type": "markdown",
    "tags": []
   },
   "source": [
    "### 广播的实际应用\n"
   ]
  },
  {
   "cell_type": "code",
   "execution_count": null,
   "metadata": {
    "cell_id": "00078-23dd109b-af59-4c77-ab6b-26c47cfaa29b",
    "deepnote_cell_type": "code",
    "deepnote_to_be_reexecuted": false,
    "execution_millis": 1,
    "execution_start": 1611749966384,
    "source_hash": "cc9699eb",
    "tags": []
   },
   "outputs": [],
   "source": [
    "#数组的归一化\n",
    "X=np.random.random((10,3))\n",
    "Xmean=X.mean(0)\n",
    "X_centered=X-Xmean\n",
    "X_centered.mean(0)"
   ]
  },
  {
   "cell_type": "code",
   "execution_count": null,
   "metadata": {
    "cell_id": "00079-eebc5776-f2a5-4694-a9eb-26cd34233ad8",
    "deepnote_cell_type": "code",
    "tags": []
   },
   "outputs": [],
   "source": [
    "#画一个二维数组\n",
    "x=np.linspace(0,5,50)\n",
    "y=np.linspace(0,5,50)[:,np.newaxis]\n",
    "z=np.sin(x)**10+np.cos(10+y*x)*np.cosx(x)\n",
    "\n",
    "plt.imshow(z,origin='lower')"
   ]
  },
  {
   "cell_type": "markdown",
   "metadata": {},
   "source": [
    "## 比较、掩码和布尔逻辑"
   ]
  },
  {
   "cell_type": "markdown",
   "metadata": {},
   "source": [
    "### 示例：统计下雨天数"
   ]
  },
  {
   "cell_type": "code",
   "execution_count": null,
   "metadata": {},
   "outputs": [],
   "source": [
    "rainfall=pd.read_csv('data/Seattle2014.csv')['PRCP'].values\n",
    "inches=rainfall/254\n",
    "inches.shape"
   ]
  },
  {
   "cell_type": "code",
   "execution_count": null,
   "metadata": {},
   "outputs": [],
   "source": [
    "plt.hist(inches,40)\n"
   ]
  },
  {
   "cell_type": "markdown",
   "metadata": {},
   "source": [
    "### 和通用函数类似的比较操作\n",
    "\n",
    "当numpy数组进行算术运算时，numpy内部会自动把算术运算符替换成对应的通用函数\n",
    "\n",
    "|运算符|对应的通用函数|\n",
    "|---|---|\n",
    "|==|np.equeal|\n",
    "|!=|np.not_equal|\n",
    "|<|np.less|\n",
    "|<=|np.less_equal|\n",
    "|>|np.greater|\n",
    "|>=|np.greater_equal|"
   ]
  },
  {
   "cell_type": "code",
   "execution_count": null,
   "metadata": {},
   "outputs": [],
   "source": [
    "x=np.array([1,2,3,4,5,6])\n",
    "x<3\n",
    "x>3\n",
    "(2*x)==(x**2)"
   ]
  },
  {
   "cell_type": "markdown",
   "metadata": {},
   "source": [
    "### 操作布尔数组"
   ]
  },
  {
   "cell_type": "code",
   "execution_count": null,
   "metadata": {},
   "outputs": [],
   "source": [
    "rng=np.random.RandomState(0)\n",
    "x=rng.randint(10,size=(3,4))\n",
    "x"
   ]
  },
  {
   "cell_type": "code",
   "execution_count": null,
   "metadata": {},
   "outputs": [],
   "source": [
    "# 统计记录的个数\n",
    "#np.count_nonzero np.sum np.any np.all\n",
    "np.count_nonzero(x<6)\n",
    "np.sum(x<6)\n",
    "np.sum(x<6,axis=1)\n",
    "np.any(x>8)\n",
    "np.all(x<10)\n",
    "np.all(x<8,axis=1)"
   ]
  },
  {
   "cell_type": "markdown",
   "metadata": {},
   "source": [
    "#布尔运算符\n",
    "\n",
    "|运算符|对应通用函数|\n",
    "|---|---|\n",
    "|&|np.bitwise_and|\n",
    "|｜|np.bitwise_or|\n",
    "|^|np.bitwise_xor|\n",
    "|~|np.bitwise_not|"
   ]
  },
  {
   "cell_type": "code",
   "execution_count": null,
   "metadata": {},
   "outputs": [],
   "source": [
    "#降水量在0.5英寸-1英寸之间的天数\n",
    "np.sum((inches>0.5)&(inches<1))\n",
    "np.sum(~((inches>=1)|(inches<=0.5)))"
   ]
  },
  {
   "cell_type": "code",
   "execution_count": null,
   "metadata": {},
   "outputs": [],
   "source": [
    "print(\"不下雨的天数：\",np.sum(inches==0))\n",
    "print(\"下雨的天数：\",np.sum(inches!=0))\n",
    "print(\"降雨量大于0.5英寸的天数：\",np.sum(inches>0.5))\n",
    "print(\"降雨量小于0.1英寸的天数：\",np.sum((inches>0)&(inches<0.1)))"
   ]
  },
  {
   "cell_type": "code",
   "execution_count": null,
   "metadata": {},
   "outputs": [],
   "source": [
    "### 布尔数组作为掩码"
   ]
  },
  {
   "cell_type": "code",
   "execution_count": null,
   "metadata": {},
   "outputs": [],
   "source": [
    "x\n",
    "x<5\n",
    "x[x<5]"
   ]
  },
  {
   "cell_type": "code",
   "execution_count": null,
   "metadata": {},
   "outputs": [],
   "source": [
    "rainy=(inches>0)\n",
    "summer=(np.arange(365)-172<90)&(np.arange(365)-172>0)\n",
    "\n",
    "print(\"2014年单日降雨量中位数：\",np.median(inches[rainy]))\n",
    "print(\"2014年夏季单日降雨量中位数:\",np.median(inches[summer]))\n",
    "print(\"2014年夏季最大单日降雨量：\", np.max(inches[summer]))\n",
    "print(\"2014年非夏季单日降雨量中位数：\",np.median(inches[rainy&~summer]))"
   ]
  },
  {
   "cell_type": "markdown",
   "metadata": {},
   "source": [
    "## 花哨的索引\n",
    "利用花哨的索引，结果的形状与索引数组形状一致，而不是与被索引形状一致"
   ]
  },
  {
   "cell_type": "code",
   "execution_count": 93,
   "metadata": {},
   "outputs": [
    {
     "data": {
      "text/plain": [
       "array([51, 92, 14, 71, 60, 20, 82, 86, 74, 74])"
      ]
     },
     "execution_count": 93,
     "metadata": {},
     "output_type": "execute_result"
    }
   ],
   "source": [
    "rand=np.random.RandomState(42)\n",
    "x=rand.randint(100,size=10)\n",
    "x"
   ]
  },
  {
   "cell_type": "code",
   "execution_count": 54,
   "metadata": {},
   "outputs": [
    {
     "data": {
      "text/plain": [
       "[71, 86, 14]"
      ]
     },
     "execution_count": 54,
     "metadata": {},
     "output_type": "execute_result"
    },
    {
     "data": {
      "text/plain": [
       "array([71, 86, 14])"
      ]
     },
     "execution_count": 54,
     "metadata": {},
     "output_type": "execute_result"
    },
    {
     "data": {
      "text/plain": [
       "array([[71, 86],\n",
       "       [60, 20]])"
      ]
     },
     "execution_count": 54,
     "metadata": {},
     "output_type": "execute_result"
    }
   ],
   "source": [
    "[x[3],x[7],x[2]]\n",
    "\n",
    "ind=[3,7,2]\n",
    "x[ind]\n",
    "\n",
    "ind=np.array([[3,7],[4,5]])\n",
    "x[ind]"
   ]
  },
  {
   "cell_type": "code",
   "execution_count": 66,
   "metadata": {},
   "outputs": [
    {
     "data": {
      "text/plain": [
       "array([[ 0,  1,  2,  3],\n",
       "       [ 4,  5,  6,  7],\n",
       "       [ 8,  9, 10, 11]])"
      ]
     },
     "execution_count": 66,
     "metadata": {},
     "output_type": "execute_result"
    },
    {
     "data": {
      "text/plain": [
       "array([ 2,  5, 11])"
      ]
     },
     "execution_count": 66,
     "metadata": {},
     "output_type": "execute_result"
    },
    {
     "data": {
      "text/plain": [
       "array([[ 2,  1,  3],\n",
       "       [ 6,  5,  7],\n",
       "       [10,  9, 11]])"
      ]
     },
     "execution_count": 66,
     "metadata": {},
     "output_type": "execute_result"
    }
   ],
   "source": [
    "X=np.arange(12).reshape((3,4))\n",
    "X\n",
    "row=np.array([0,1,2])\n",
    "col=np.array([2,1,3])\n",
    "X[row,col]\n",
    "X[row[:,np.newaxis],col]\n",
    "\n",
    "\n"
   ]
  },
  {
   "cell_type": "markdown",
   "metadata": {},
   "source": [
    "### 花哨索引与其他"
   ]
  },
  {
   "cell_type": "code",
   "execution_count": 67,
   "metadata": {},
   "outputs": [
    {
     "data": {
      "text/plain": [
       "array([[ 0,  1,  2,  3],\n",
       "       [ 4,  5,  6,  7],\n",
       "       [ 8,  9, 10, 11]])"
      ]
     },
     "execution_count": 67,
     "metadata": {},
     "output_type": "execute_result"
    },
    {
     "data": {
      "text/plain": [
       "array([10,  8,  9])"
      ]
     },
     "execution_count": 67,
     "metadata": {},
     "output_type": "execute_result"
    },
    {
     "data": {
      "text/plain": [
       "array([[ 6,  4,  5],\n",
       "       [10,  8,  9]])"
      ]
     },
     "execution_count": 67,
     "metadata": {},
     "output_type": "execute_result"
    },
    {
     "data": {
      "text/plain": [
       "array([[ 0,  2],\n",
       "       [ 4,  6],\n",
       "       [ 8, 10]])"
      ]
     },
     "execution_count": 67,
     "metadata": {},
     "output_type": "execute_result"
    }
   ],
   "source": [
    "X\n",
    "X[2,[2,0,1]]#花哨索引和简单索引组合使用\n",
    "X[1:,[2,0,1]]#花哨索引和切片索引组合使用\n",
    "mask=np.array([1,0,1,0],dtype=bool)\n",
    "X[row[:,np.newaxis],mask]"
   ]
  },
  {
   "cell_type": "markdown",
   "metadata": {},
   "source": [
    "### 示例：选择随机点"
   ]
  },
  {
   "cell_type": "code",
   "execution_count": 69,
   "metadata": {},
   "outputs": [
    {
     "data": {
      "text/plain": [
       "(100, 2)"
      ]
     },
     "execution_count": 69,
     "metadata": {},
     "output_type": "execute_result"
    }
   ],
   "source": [
    "mean=[0,0]\n",
    "cov=[[1,2],[2,5]]\n",
    "X=rand.multivariate_normal(mean,cov,100)\n",
    "X.shape\n"
   ]
  },
  {
   "cell_type": "code",
   "execution_count": 72,
   "metadata": {},
   "outputs": [
    {
     "data": {
      "text/plain": [
       "<matplotlib.collections.PathCollection at 0x3b25250>"
      ]
     },
     "execution_count": 72,
     "metadata": {},
     "output_type": "execute_result"
    },
    {
     "data": {
      "image/png": "[encoded data removed]",
      "text/plain": [
       "<Figure size 432x288 with 1 Axes>"
      ]
     },
     "metadata": {},
     "output_type": "display_data"
    }
   ],
   "source": [
    "plt.scatter(X[:,0],X[:,1])"
   ]
  },
  {
   "cell_type": "code",
   "execution_count": 74,
   "metadata": {},
   "outputs": [
    {
     "data": {
      "text/plain": [
       "array([87, 54,  5, 34, 10, 73, 29, 22, 30, 36, 45, 61, 38, 62,  7, 27, 55,\n",
       "       79, 41, 53])"
      ]
     },
     "execution_count": 74,
     "metadata": {},
     "output_type": "execute_result"
    },
    {
     "data": {
      "text/plain": [
       "(20, 2)"
      ]
     },
     "execution_count": 74,
     "metadata": {},
     "output_type": "execute_result"
    }
   ],
   "source": [
    "indices=np.random.choice(X.shape[0],20,replace=False)\n",
    "indices\n",
    "selection=X[indices]\n",
    "selection.shape"
   ]
  },
  {
   "cell_type": "code",
   "execution_count": 79,
   "metadata": {},
   "outputs": [
    {
     "data": {
      "text/plain": [
       "<matplotlib.collections.PathCollection at 0x5092d50>"
      ]
     },
     "execution_count": 79,
     "metadata": {},
     "output_type": "execute_result"
    },
    {
     "data": {
      "text/plain": [
       "<matplotlib.collections.PathCollection at 0x5092f10>"
      ]
     },
     "execution_count": 79,
     "metadata": {},
     "output_type": "execute_result"
    },
    {
     "data": {
      "image/png": "[encoded data removed]",
      "text/plain": [
       "<Figure size 432x288 with 1 Axes>"
      ]
     },
     "metadata": {},
     "output_type": "display_data"
    }
   ],
   "source": [
    "plt.scatter(X[:,0],X[:,1],alpha=0.3)\n",
    "plt.scatter(selection[:,0],selection[:,1],facecolor='none',edgecolor='b',s=200)"
   ]
  },
  {
   "cell_type": "markdown",
   "metadata": {},
   "source": [
    "### 用花哨的索引修改值"
   ]
  },
  {
   "cell_type": "code",
   "execution_count": 81,
   "metadata": {},
   "outputs": [
    {
     "data": {
      "text/plain": [
       "array([ 0, 99, 99,  3, 99,  5,  6,  7, 99,  9])"
      ]
     },
     "execution_count": 81,
     "metadata": {},
     "output_type": "execute_result"
    },
    {
     "data": {
      "text/plain": [
       "array([ 0, 89, 89,  3, 89,  5,  6,  7, 89,  9])"
      ]
     },
     "execution_count": 81,
     "metadata": {},
     "output_type": "execute_result"
    }
   ],
   "source": [
    "x=np.arange(10)\n",
    "i=np.array([2,1,8,4])\n",
    "x[i]=99\n",
    "x\n",
    "x[i]-=10\n",
    "x"
   ]
  },
  {
   "cell_type": "code",
   "execution_count": 83,
   "metadata": {},
   "outputs": [
    {
     "data": {
      "text/plain": [
       "array([0., 0., 1., 1., 1., 0., 0., 0., 0., 0.])"
      ]
     },
     "execution_count": 83,
     "metadata": {},
     "output_type": "execute_result"
    },
    {
     "data": {
      "text/plain": [
       "array([0., 0., 1., 2., 3., 0., 0., 0., 0., 0.])"
      ]
     },
     "execution_count": 83,
     "metadata": {},
     "output_type": "execute_result"
    }
   ],
   "source": [
    "x=np.zeros(10)\n",
    "i=[2,3,3,4,4,4]\n",
    "x[i]+=1\n",
    "x\n",
    "\n",
    "x=np.zeros(10)\n",
    "np.add.at(x,i,1)\n",
    "x"
   ]
  },
  {
   "cell_type": "markdown",
   "metadata": {},
   "source": [
    "### 示例：数据区间划分"
   ]
  },
  {
   "cell_type": "code",
   "execution_count": 90,
   "metadata": {},
   "outputs": [
    {
     "data": {
      "text/plain": [
       "[<matplotlib.lines.Line2D at 0x3c7cad0>]"
      ]
     },
     "execution_count": 90,
     "metadata": {},
     "output_type": "execute_result"
    },
    {
     "data": {
      "image/png": "[encoded data removed]",
      "text/plain": [
       "<Figure size 432x288 with 1 Axes>"
      ]
     },
     "metadata": {},
     "output_type": "display_data"
    }
   ],
   "source": [
    "np.random.seed(42)\n",
    "x=np.random.randn(100)\n",
    "#手动计算直方图\n",
    "bins=np.linspace(-5,5,20)\n",
    "counts=np.zeros_like(bins)\n",
    "i=np.searchsorted(bins,x)\n",
    "np.add.at(counts,i,1)\n",
    "\n",
    "plt.plot(bins,counts,linestyle='steps')"
   ]
  },
  {
   "cell_type": "code",
   "execution_count": 89,
   "metadata": {},
   "outputs": [
    {
     "data": {
      "text/plain": [
       "(array([ 0.,  0.,  0.,  0.,  1.,  3.,  7.,  9., 23., 22., 17., 10.,  7.,\n",
       "         1.,  0.,  0.,  0.,  0.,  0.]),\n",
       " array([-5.        , -4.47368421, -3.94736842, -3.42105263, -2.89473684,\n",
       "        -2.36842105, -1.84210526, -1.31578947, -0.78947368, -0.26315789,\n",
       "         0.26315789,  0.78947368,  1.31578947,  1.84210526,  2.36842105,\n",
       "         2.89473684,  3.42105263,  3.94736842,  4.47368421,  5.        ]),\n",
       " <a list of 1 Patch objects>)"
      ]
     },
     "execution_count": 89,
     "metadata": {},
     "output_type": "execute_result"
    },
    {
     "data": {
      "image/png": "[encoded data removed]",
      "text/plain": [
       "<Figure size 432x288 with 1 Axes>"
      ]
     },
     "metadata": {},
     "output_type": "display_data"
    }
   ],
   "source": [
    "plt.hist(x,bins,histtype='step')"
   ]
  },
  {
   "cell_type": "markdown",
   "metadata": {},
   "source": [
    "## 数组的排序"
   ]
  },
  {
   "cell_type": "markdown",
   "metadata": {},
   "source": [
    "### numpy中的快速排序：np.sort np.argsort"
   ]
  },
  {
   "cell_type": "code",
   "execution_count": 96,
   "metadata": {},
   "outputs": [
    {
     "data": {
      "text/plain": [
       "array([[1, 5, 5, 9, 3, 5],\n",
       "       [1, 9, 1, 9, 3, 7],\n",
       "       [6, 8, 7, 4, 1, 4],\n",
       "       [7, 9, 8, 8, 0, 8]])"
      ]
     },
     "execution_count": 96,
     "metadata": {},
     "output_type": "execute_result"
    },
    {
     "data": {
      "text/plain": [
       "array([[1, 5, 1, 4, 0, 4],\n",
       "       [1, 8, 5, 8, 1, 5],\n",
       "       [6, 9, 7, 9, 3, 7],\n",
       "       [7, 9, 8, 9, 3, 8]])"
      ]
     },
     "execution_count": 96,
     "metadata": {},
     "output_type": "execute_result"
    }
   ],
   "source": [
    "X=rand.randint(0,10,(4,6))\n",
    "X\n",
    "np.sort(X,axis=0)"
   ]
  },
  {
   "cell_type": "markdown",
   "metadata": {},
   "source": [
    "### 部分排序:分隔"
   ]
  },
  {
   "cell_type": "code",
   "execution_count": 101,
   "metadata": {},
   "outputs": [
    {
     "data": {
      "text/plain": [
       "array([1, 1, 2, 2, 6, 5, 3, 7, 5, 6])"
      ]
     },
     "execution_count": 101,
     "metadata": {},
     "output_type": "execute_result"
    }
   ],
   "source": [
    "x=np.random.randint(1,10,10)\n",
    "np.partition(x,3)"
   ]
  },
  {
   "cell_type": "markdown",
   "metadata": {},
   "source": [
    "### K个最近邻"
   ]
  },
  {
   "cell_type": "code",
   "execution_count": 105,
   "metadata": {},
   "outputs": [
    {
     "data": {
      "text/plain": [
       "array([[0.47221493, 0.11959425],\n",
       "       [0.71324479, 0.76078505],\n",
       "       [0.5612772 , 0.77096718],\n",
       "       [0.4937956 , 0.52273283],\n",
       "       [0.42754102, 0.02541913],\n",
       "       [0.10789143, 0.03142919],\n",
       "       [0.63641041, 0.31435598],\n",
       "       [0.50857069, 0.90756647],\n",
       "       [0.24929223, 0.41038292],\n",
       "       [0.75555114, 0.22879817]])"
      ]
     },
     "execution_count": 105,
     "metadata": {},
     "output_type": "execute_result"
    },
    {
     "data": {
      "text/plain": [
       "<matplotlib.collections.PathCollection at 0xefd1d70>"
      ]
     },
     "execution_count": 105,
     "metadata": {},
     "output_type": "execute_result"
    },
    {
     "data": {
      "image/png": "[encoded data removed]",
      "text/plain": [
       "<Figure size 432x288 with 1 Axes>"
      ]
     },
     "metadata": {},
     "output_type": "display_data"
    }
   ],
   "source": [
    "X=rand.rand(10,2)\n",
    "X\n",
    "plt.scatter(X[:,0],X[:,1],s=100)"
   ]
  },
  {
   "cell_type": "code",
   "execution_count": 108,
   "metadata": {},
   "outputs": [
    {
     "data": {
      "text/plain": [
       "array([0., 0., 0., 0., 0., 0., 0., 0., 0., 0.])"
      ]
     },
     "execution_count": 108,
     "metadata": {},
     "output_type": "execute_result"
    },
    {
     "data": {
      "text/plain": [
       "array([[0, 4, 6, 9, 8, 5, 3, 2, 1, 7],\n",
       "       [1, 2, 7, 3, 6, 9, 8, 0, 4, 5],\n",
       "       [2, 7, 1, 3, 6, 8, 9, 0, 4, 5],\n",
       "       [3, 6, 2, 8, 1, 7, 9, 0, 4, 5],\n",
       "       [4, 0, 5, 6, 9, 8, 3, 2, 1, 7],\n",
       "       [5, 4, 0, 8, 6, 3, 9, 2, 1, 7],\n",
       "       [6, 9, 3, 0, 4, 8, 1, 2, 5, 7],\n",
       "       [7, 2, 1, 3, 8, 6, 9, 0, 4, 5],\n",
       "       [8, 3, 0, 6, 5, 4, 2, 9, 7, 1],\n",
       "       [9, 6, 0, 4, 3, 1, 8, 2, 5, 7]], dtype=int32)"
      ]
     },
     "execution_count": 108,
     "metadata": {},
     "output_type": "execute_result"
    }
   ],
   "source": [
    "dist_sq=np.sum((X[:,np.newaxis,:]-X[np.newaxis,:,:])**2,axis=-1)\n",
    "dist_sq.diagonal()\n",
    "nearest=np.argsort(dist_sq,axis=1)\n",
    "nearest"
   ]
  },
  {
   "cell_type": "code",
   "execution_count": 112,
   "metadata": {},
   "outputs": [
    {
     "data": {
      "text/plain": [
       "<matplotlib.collections.PathCollection at 0xf0628d0>"
      ]
     },
     "execution_count": 112,
     "metadata": {},
     "output_type": "execute_result"
    },
    {
     "data": {
      "image/png": "[encoded data removed]",
      "text/plain": [
       "<Figure size 432x288 with 1 Axes>"
      ]
     },
     "metadata": {},
     "output_type": "display_data"
    }
   ],
   "source": [
    "k=2\n",
    "nearest_partiton=np.argpartition(dist_sq,k+1,axis=1)\n",
    "plt.scatter(X[:,0],X[:,1],s=100)\n"
   ]
  },
  {
   "cell_type": "code",
   "execution_count": 115,
   "metadata": {},
   "outputs": [
    {
     "data": {
      "text/plain": [
       "[<matplotlib.lines.Line2D at 0xf0a72b0>]"
      ]
     },
     "execution_count": 115,
     "metadata": {},
     "output_type": "execute_result"
    },
    {
     "data": {
      "text/plain": [
       "[<matplotlib.lines.Line2D at 0xf0a76b0>]"
      ]
     },
     "execution_count": 115,
     "metadata": {},
     "output_type": "execute_result"
    },
    {
     "data": {
      "text/plain": [
       "[<matplotlib.lines.Line2D at 0xf0a7910>]"
      ]
     },
     "execution_count": 115,
     "metadata": {},
     "output_type": "execute_result"
    },
    {
     "data": {
      "text/plain": [
       "[<matplotlib.lines.Line2D at 0xf0a7c50>]"
      ]
     },
     "execution_count": 115,
     "metadata": {},
     "output_type": "execute_result"
    },
    {
     "data": {
      "text/plain": [
       "[<matplotlib.lines.Line2D at 0xf0a7e50>]"
      ]
     },
     "execution_count": 115,
     "metadata": {},
     "output_type": "execute_result"
    },
    {
     "data": {
      "text/plain": [
       "[<matplotlib.lines.Line2D at 0xf0b3130>]"
      ]
     },
     "execution_count": 115,
     "metadata": {},
     "output_type": "execute_result"
    },
    {
     "data": {
      "text/plain": [
       "[<matplotlib.lines.Line2D at 0xf0b33d0>]"
      ]
     },
     "execution_count": 115,
     "metadata": {},
     "output_type": "execute_result"
    },
    {
     "data": {
      "text/plain": [
       "[<matplotlib.lines.Line2D at 0xf0b3670>]"
      ]
     },
     "execution_count": 115,
     "metadata": {},
     "output_type": "execute_result"
    },
    {
     "data": {
      "text/plain": [
       "[<matplotlib.lines.Line2D at 0xf0b3910>]"
      ]
     },
     "execution_count": 115,
     "metadata": {},
     "output_type": "execute_result"
    },
    {
     "data": {
      "text/plain": [
       "[<matplotlib.lines.Line2D at 0xf0b3b90>]"
      ]
     },
     "execution_count": 115,
     "metadata": {},
     "output_type": "execute_result"
    },
    {
     "data": {
      "text/plain": [
       "[<matplotlib.lines.Line2D at 0xf0b3dd0>]"
      ]
     },
     "execution_count": 115,
     "metadata": {},
     "output_type": "execute_result"
    },
    {
     "data": {
      "text/plain": [
       "[<matplotlib.lines.Line2D at 0xf0b3610>]"
      ]
     },
     "execution_count": 115,
     "metadata": {},
     "output_type": "execute_result"
    },
    {
     "data": {
      "text/plain": [
       "[<matplotlib.lines.Line2D at 0xf0bb1b0>]"
      ]
     },
     "execution_count": 115,
     "metadata": {},
     "output_type": "execute_result"
    },
    {
     "data": {
      "text/plain": [
       "[<matplotlib.lines.Line2D at 0xf0bb570>]"
      ]
     },
     "execution_count": 115,
     "metadata": {},
     "output_type": "execute_result"
    },
    {
     "data": {
      "text/plain": [
       "[<matplotlib.lines.Line2D at 0xf0bb870>]"
      ]
     },
     "execution_count": 115,
     "metadata": {},
     "output_type": "execute_result"
    },
    {
     "data": {
      "text/plain": [
       "[<matplotlib.lines.Line2D at 0xf0bbc10>]"
      ]
     },
     "execution_count": 115,
     "metadata": {},
     "output_type": "execute_result"
    },
    {
     "data": {
      "text/plain": [
       "[<matplotlib.lines.Line2D at 0xf0bbdb0>]"
      ]
     },
     "execution_count": 115,
     "metadata": {},
     "output_type": "execute_result"
    },
    {
     "data": {
      "text/plain": [
       "[<matplotlib.lines.Line2D at 0xf0c4170>]"
      ]
     },
     "execution_count": 115,
     "metadata": {},
     "output_type": "execute_result"
    },
    {
     "data": {
      "text/plain": [
       "[<matplotlib.lines.Line2D at 0xf0c4370>]"
      ]
     },
     "execution_count": 115,
     "metadata": {},
     "output_type": "execute_result"
    },
    {
     "data": {
      "text/plain": [
       "[<matplotlib.lines.Line2D at 0xf0c4610>]"
      ]
     },
     "execution_count": 115,
     "metadata": {},
     "output_type": "execute_result"
    },
    {
     "data": {
      "text/plain": [
       "[<matplotlib.lines.Line2D at 0xf0c4870>]"
      ]
     },
     "execution_count": 115,
     "metadata": {},
     "output_type": "execute_result"
    },
    {
     "data": {
      "text/plain": [
       "[<matplotlib.lines.Line2D at 0xf0c4b90>]"
      ]
     },
     "execution_count": 115,
     "metadata": {},
     "output_type": "execute_result"
    },
    {
     "data": {
      "text/plain": [
       "[<matplotlib.lines.Line2D at 0xf0c4d50>]"
      ]
     },
     "execution_count": 115,
     "metadata": {},
     "output_type": "execute_result"
    },
    {
     "data": {
      "text/plain": [
       "[<matplotlib.lines.Line2D at 0xf0cb030>]"
      ]
     },
     "execution_count": 115,
     "metadata": {},
     "output_type": "execute_result"
    },
    {
     "data": {
      "text/plain": [
       "[<matplotlib.lines.Line2D at 0xf0cb350>]"
      ]
     },
     "execution_count": 115,
     "metadata": {},
     "output_type": "execute_result"
    },
    {
     "data": {
      "text/plain": [
       "[<matplotlib.lines.Line2D at 0xf0cb290>]"
      ]
     },
     "execution_count": 115,
     "metadata": {},
     "output_type": "execute_result"
    },
    {
     "data": {
      "text/plain": [
       "[<matplotlib.lines.Line2D at 0xf0cb7d0>]"
      ]
     },
     "execution_count": 115,
     "metadata": {},
     "output_type": "execute_result"
    },
    {
     "data": {
      "text/plain": [
       "[<matplotlib.lines.Line2D at 0xf0cb9f0>]"
      ]
     },
     "execution_count": 115,
     "metadata": {},
     "output_type": "execute_result"
    },
    {
     "data": {
      "text/plain": [
       "[<matplotlib.lines.Line2D at 0xf0cbdb0>]"
      ]
     },
     "execution_count": 115,
     "metadata": {},
     "output_type": "execute_result"
    },
    {
     "data": {
      "text/plain": [
       "[<matplotlib.lines.Line2D at 0xf0d1070>]"
      ]
     },
     "execution_count": 115,
     "metadata": {},
     "output_type": "execute_result"
    },
    {
     "data": {
      "image/png": "[encoded data removed]",
      "text/plain": [
       "<Figure size 432x288 with 1 Axes>"
      ]
     },
     "metadata": {},
     "output_type": "display_data"
    }
   ],
   "source": [
    "k=2\n",
    "for i in range(X.shape[0]):\n",
    "    for j in nearest_partiton[i,: k+1]:\n",
    "        plt.plot(*zip(X[j],X[i]),color='black')"
   ]
  },
  {
   "cell_type": "markdown",
   "metadata": {},
   "source": [
    "## 结构化数据：Numpy的结构化数组b\n"
   ]
  },
  {
   "cell_type": "code",
   "execution_count": 117,
   "metadata": {},
   "outputs": [
    {
     "data": {
      "text/plain": [
       "dtype([('name', '<U10'), ('age', '<i4'), ('weight', '<f8')])"
      ]
     },
     "execution_count": 117,
     "metadata": {},
     "output_type": "execute_result"
    }
   ],
   "source": [
    "x=np.zeros(4,dtype={'names':('name','age','weight'),'formats':('U10','i4','f8')})\n",
    "x.dtype"
   ]
  },
  {
   "cell_type": "code",
   "execution_count": 119,
   "metadata": {},
   "outputs": [
    {
     "data": {
      "text/plain": [
       "array([('Alice',  25,  55. ), ('Bob',  45,  54.2), ('Cathy',  67, 435. ),\n",
       "       ('Doug', 314,  23. )],\n",
       "      dtype=[('name', '<U10'), ('age', '<i4'), ('weight', '<f8')])"
      ]
     },
     "execution_count": 119,
     "metadata": {},
     "output_type": "execute_result"
    }
   ],
   "source": [
    "name=['Alice','Bob','Cathy','Doug']\n",
    "age=[25,45,67,314]\n",
    "weight=[55,54.2,435,23]\n",
    "\n",
    "x['name']=name\n",
    "x['age']=age\n",
    "x['weight']=weight\n",
    "\n",
    "x"
   ]
  },
  {
   "cell_type": "code",
   "execution_count": 120,
   "metadata": {},
   "outputs": [
    {
     "data": {
      "text/plain": [
       "array(['Alice', 'Bob', 'Cathy', 'Doug'], dtype='<U10')"
      ]
     },
     "execution_count": 120,
     "metadata": {},
     "output_type": "execute_result"
    },
    {
     "data": {
      "text/plain": [
       "('Alice', 25, 55.)"
      ]
     },
     "execution_count": 120,
     "metadata": {},
     "output_type": "execute_result"
    },
    {
     "data": {
      "text/plain": [
       "'Doug'"
      ]
     },
     "execution_count": 120,
     "metadata": {},
     "output_type": "execute_result"
    }
   ],
   "source": [
    "x['name']\n",
    "x[0]\n",
    "x[-1]['name']"
   ]
  },
  {
   "cell_type": "markdown",
   "metadata": {},
   "source": [
    "numpy的数据类型简写表\n",
    "\n",
    "|Character|\tDescription|\tExample|\n",
    "|---|---|---|---|\n",
    "|'b'|\tByte|\tnp.dtype('b')|\n",
    "|'i'|\tSigned| integer\tnp.dtype('i4') == np.int32|\n",
    "|'u'|\tUnsigned integer|\tnp.dtype('u1') == np.uint8|\n",
    "|'f'|\tFloating point|\tnp.dtype('f8') == np.int64|\n",
    "|'c'|\tComplex floating point|\tnp.dtype('c16') == np.complex128|\n",
    "|'S', 'a'|\tString|\tnp.dtype('S5')|\n",
    "|'U'|\tUnicode string\t|np.dtype('U') == np.str_|\n",
    "|'V'|\tRaw data (void)\t|np.dtype('V') == np.void|"
   ]
  },
  {
   "cell_type": "markdown",
   "metadata": {},
   "source": [
    "### 更高级的复合类型"
   ]
  },
  {
   "cell_type": "code",
   "execution_count": 121,
   "metadata": {},
   "outputs": [
    {
     "name": "stdout",
     "output_type": "stream",
     "text": [
      "(0, [[0., 0., 0.], [0., 0., 0.], [0., 0., 0.]])\n",
      "[[0. 0. 0.]\n",
      " [0. 0. 0.]\n",
      " [0. 0. 0.]]\n"
     ]
    }
   ],
   "source": [
    "tp = np.dtype([('id', 'i8'), ('mat', 'f8', (3, 3))])#用元组列表方式定义数组\n",
    "X = np.zeros(1, dtype=tp)\n",
    "print(X[0])\n",
    "print(X['mat'][0])\n"
   ]
  },
  {
   "cell_type": "markdown",
   "metadata": {},
   "source": [
    "### 记录数组：结构化数组的扭转"
   ]
  },
  {
   "cell_type": "code",
   "execution_count": 126,
   "metadata": {},
   "outputs": [
    {
     "name": "stdout",
     "output_type": "stream",
     "text": [
      "222 ns ± 4.93 ns per loop (mean ± std. dev. of 7 runs, 1000000 loops each)\n",
      "3.98 µs ± 28.5 ns per loop (mean ± std. dev. of 7 runs, 100000 loops each)\n",
      "5.19 µs ± 27.4 ns per loop (mean ± std. dev. of 7 runs, 100000 loops each)\n"
     ]
    }
   ],
   "source": [
    "data_rec=x.view(np.recarray)\n",
    "\n",
    "%timeit x['age']\n",
    "%timeit data_rec['age']\n",
    "%timeit data_rec.age"
   ]
  }
 ],
 "metadata": {
  "deepnote_execution_queue": [],
  "deepnote_notebook_id": "ec43cf05-034e-44c2-9b17-2545b74dd9dc",
  "kernelspec": {
   "display_name": "Python 3",
   "language": "python",
   "name": "python3"
  },
  "language_info": {
   "codemirror_mode": {
    "name": "ipython",
    "version": 3
   },
   "file_extension": ".py",
   "mimetype": "text/x-python",
   "name": "python",
   "nbconvert_exporter": "python",
   "pygments_lexer": "ipython3",
   "version": "3.6.5"
  },
  "notify_time": "0",
  "toc": {
   "base_numbering": 1,
   "nav_menu": {},
   "number_sections": true,
   "sideBar": true,
   "skip_h1_title": false,
   "title_cell": "Table of Contents",
   "title_sidebar": "Contents",
   "toc_cell": false,
   "toc_position": {},
   "toc_section_display": true,
   "toc_window_display": false
  }
 },
 "nbformat": 4,
 "nbformat_minor": 2
}
